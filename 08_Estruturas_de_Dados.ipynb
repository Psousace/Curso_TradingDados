{
  "nbformat": 4,
  "nbformat_minor": 0,
  "metadata": {
    "colab": {
      "provenance": [],
      "include_colab_link": true
    },
    "kernelspec": {
      "name": "python3",
      "display_name": "Python 3"
    },
    "language_info": {
      "name": "python"
    }
  },
  "cells": [
    {
      "cell_type": "markdown",
      "metadata": {
        "id": "view-in-github",
        "colab_type": "text"
      },
      "source": [
        "<a href=\"https://colab.research.google.com/github/Psousace/Curso_TradingDados/blob/main/08_Estruturas_de_Dados.ipynb\" target=\"_parent\"><img src=\"https://colab.research.google.com/assets/colab-badge.svg\" alt=\"Open In Colab\"/></a>"
      ]
    },
    {
      "cell_type": "markdown",
      "source": [
        "<center><img src = \"https://github.com/Trading-com-Dados/pmf/blob/main/logotipo-trading-com-dados.svg?raw=true\" width = \"200\">"
      ],
      "metadata": {
        "id": "NoGQ3itYnf9J"
      }
    },
    {
      "cell_type": "markdown",
      "source": [
        "# **Fundamentos da Programação em Python**\n",
        "\n",
        "#### Vamos aprender sobre as estruturas de dados nativas do Python\n",
        "\n",
        "\n",
        "\n",
        "1.   Listas\n",
        "2.   Dicionários\n",
        "3.   Tuplas\n",
        "4.   Conjuntos\n",
        "\n"
      ],
      "metadata": {
        "id": "yYOEfGkBI8t6"
      }
    },
    {
      "cell_type": "markdown",
      "source": [
        "## 1. Listas"
      ],
      "metadata": {
        "id": "QoqftKxNUyWq"
      }
    },
    {
      "cell_type": "code",
      "source": [
        "[1, 2, 3] # LISTAS criadas utiliando-se colchetes==>LISTAS - Chaves==>DICIONÁRIO - Parentesis==>TUPLAS"
      ],
      "metadata": {
        "colab": {
          "base_uri": "https://localhost:8080/"
        },
        "id": "auo-tkOYVYsR",
        "outputId": "6115852c-9268-4be9-dfc1-ece99c6e04a4"
      },
      "execution_count": null,
      "outputs": [
        {
          "output_type": "execute_result",
          "data": {
            "text/plain": [
              "[1, 2, 3]"
            ]
          },
          "metadata": {},
          "execution_count": 140
        }
      ]
    },
    {
      "cell_type": "code",
      "source": [
        "[1, 3.14, 'PETR4']"
      ],
      "metadata": {
        "colab": {
          "base_uri": "https://localhost:8080/"
        },
        "id": "v_5j4ybSVvkg",
        "outputId": "902ada59-a0e5-4142-97f5-a9f4d91c26d4"
      },
      "execution_count": null,
      "outputs": [
        {
          "output_type": "execute_result",
          "data": {
            "text/plain": [
              "[1, 3.14, 'PETR4']"
            ]
          },
          "metadata": {},
          "execution_count": 141
        }
      ]
    },
    {
      "cell_type": "code",
      "source": [
        "lista = [1, 3.14, 'PETR4']"
      ],
      "metadata": {
        "id": "KNlwvn7-Vxph"
      },
      "execution_count": null,
      "outputs": []
    },
    {
      "cell_type": "code",
      "source": [
        "lista"
      ],
      "metadata": {
        "colab": {
          "base_uri": "https://localhost:8080/"
        },
        "id": "TIjxvQA_V_Wp",
        "outputId": "323acff1-fbaa-42fa-c380-7071a9e46e53"
      },
      "execution_count": null,
      "outputs": [
        {
          "output_type": "execute_result",
          "data": {
            "text/plain": [
              "[1, 3.14, 'PETR4']"
            ]
          },
          "metadata": {},
          "execution_count": 143
        }
      ]
    },
    {
      "cell_type": "code",
      "source": [
        "acoes = ['PETR4', 'VALE3', 'WEGE3']"
      ],
      "metadata": {
        "id": "0_qTx9VbWALZ"
      },
      "execution_count": null,
      "outputs": []
    },
    {
      "cell_type": "code",
      "source": [
        "type(acoes)"
      ],
      "metadata": {
        "colab": {
          "base_uri": "https://localhost:8080/"
        },
        "id": "FCwLhYSiWK7Z",
        "outputId": "1440e2f9-7968-4ae9-dc3a-2844bf7b4f42"
      },
      "execution_count": null,
      "outputs": [
        {
          "output_type": "execute_result",
          "data": {
            "text/plain": [
              "list"
            ]
          },
          "metadata": {},
          "execution_count": 145
        }
      ]
    },
    {
      "cell_type": "code",
      "source": [
        "list([1,2,3])"
      ],
      "metadata": {
        "colab": {
          "base_uri": "https://localhost:8080/"
        },
        "id": "6roanUmpWQDN",
        "outputId": "f1605c4d-f11e-4360-cae2-3dd0b53c9187"
      },
      "execution_count": null,
      "outputs": [
        {
          "output_type": "execute_result",
          "data": {
            "text/plain": [
              "[1, 2, 3]"
            ]
          },
          "metadata": {},
          "execution_count": 146
        }
      ]
    },
    {
      "cell_type": "code",
      "source": [
        "acoes"
      ],
      "metadata": {
        "colab": {
          "base_uri": "https://localhost:8080/"
        },
        "id": "21RSNRsgWYLB",
        "outputId": "0af99db5-b2f7-4b59-ad1e-fdc252a908f3"
      },
      "execution_count": null,
      "outputs": [
        {
          "output_type": "execute_result",
          "data": {
            "text/plain": [
              "['PETR4', 'VALE3', 'WEGE3']"
            ]
          },
          "metadata": {},
          "execution_count": 147
        }
      ]
    },
    {
      "cell_type": "markdown",
      "source": [
        "Indexing"
      ],
      "metadata": {
        "id": "8_MsLmdTW5Wa"
      }
    },
    {
      "cell_type": "code",
      "source": [
        "acoes[0]"
      ],
      "metadata": {
        "colab": {
          "base_uri": "https://localhost:8080/",
          "height": 35
        },
        "id": "oogcWm06W-zp",
        "outputId": "e31dfd20-ff16-4d95-aafd-a93311053f29"
      },
      "execution_count": null,
      "outputs": [
        {
          "output_type": "execute_result",
          "data": {
            "text/plain": [
              "'PETR4'"
            ],
            "application/vnd.google.colaboratory.intrinsic+json": {
              "type": "string"
            }
          },
          "metadata": {},
          "execution_count": 148
        }
      ]
    },
    {
      "cell_type": "markdown",
      "source": [
        "Alguns exemplos de strings"
      ],
      "metadata": {
        "id": "x52alWjUXDf5"
      }
    },
    {
      "cell_type": "code",
      "source": [
        "\"Hoje, eu comprei para a minha carteira algumas ações\""
      ],
      "metadata": {
        "colab": {
          "base_uri": "https://localhost:8080/",
          "height": 35
        },
        "id": "GSTvJrhqXXv5",
        "outputId": "ed08760a-b79e-441b-8f05-ef94284de674"
      },
      "execution_count": null,
      "outputs": [
        {
          "output_type": "execute_result",
          "data": {
            "text/plain": [
              "'Hoje, eu comprei para a minha carteira algumas ações'"
            ],
            "application/vnd.google.colaboratory.intrinsic+json": {
              "type": "string"
            }
          },
          "metadata": {},
          "execution_count": 149
        }
      ]
    },
    {
      "cell_type": "code",
      "source": [
        "texto = \"Hoje, eu comprei para a minha carteira algumas ações\""
      ],
      "metadata": {
        "id": "ihqTidlnXeLB"
      },
      "execution_count": null,
      "outputs": []
    },
    {
      "cell_type": "code",
      "source": [
        "texto[0]"
      ],
      "metadata": {
        "colab": {
          "base_uri": "https://localhost:8080/",
          "height": 35
        },
        "id": "MD2vpBYOXf_y",
        "outputId": "f8f71991-21c8-4c49-c04d-7fd9b3375084"
      },
      "execution_count": null,
      "outputs": [
        {
          "output_type": "execute_result",
          "data": {
            "text/plain": [
              "'H'"
            ],
            "application/vnd.google.colaboratory.intrinsic+json": {
              "type": "string"
            }
          },
          "metadata": {},
          "execution_count": 151
        }
      ]
    },
    {
      "cell_type": "code",
      "source": [
        "texto[1]"
      ],
      "metadata": {
        "colab": {
          "base_uri": "https://localhost:8080/",
          "height": 35
        },
        "id": "w3BqSDkEXl2g",
        "outputId": "c8fdd612-e778-4b77-9d6a-eb9d6b346eb9"
      },
      "execution_count": null,
      "outputs": [
        {
          "output_type": "execute_result",
          "data": {
            "text/plain": [
              "'o'"
            ],
            "application/vnd.google.colaboratory.intrinsic+json": {
              "type": "string"
            }
          },
          "metadata": {},
          "execution_count": 152
        }
      ]
    },
    {
      "cell_type": "code",
      "source": [
        "texto[-1]"
      ],
      "metadata": {
        "colab": {
          "base_uri": "https://localhost:8080/",
          "height": 35
        },
        "id": "eBf07iBgXo_Z",
        "outputId": "a7feaec2-a969-4acd-d481-ea5bed9f95fd"
      },
      "execution_count": null,
      "outputs": [
        {
          "output_type": "execute_result",
          "data": {
            "text/plain": [
              "'s'"
            ],
            "application/vnd.google.colaboratory.intrinsic+json": {
              "type": "string"
            }
          },
          "metadata": {},
          "execution_count": 153
        }
      ]
    },
    {
      "cell_type": "code",
      "source": [
        "texto[0:4]"
      ],
      "metadata": {
        "colab": {
          "base_uri": "https://localhost:8080/",
          "height": 35
        },
        "id": "0lU2YoniXrLx",
        "outputId": "13d9a9b3-d637-4bc7-9df7-1d1fd5380a38"
      },
      "execution_count": null,
      "outputs": [
        {
          "output_type": "execute_result",
          "data": {
            "text/plain": [
              "'Hoje'"
            ],
            "application/vnd.google.colaboratory.intrinsic+json": {
              "type": "string"
            }
          },
          "metadata": {},
          "execution_count": 154
        }
      ]
    },
    {
      "cell_type": "code",
      "source": [
        "complemento = \", por exemplo PETR4 e VALE3\""
      ],
      "metadata": {
        "id": "fTh7L1laX7Qz"
      },
      "execution_count": null,
      "outputs": []
    },
    {
      "cell_type": "code",
      "source": [
        "texto + complemento"
      ],
      "metadata": {
        "colab": {
          "base_uri": "https://localhost:8080/",
          "height": 35
        },
        "id": "IX8Uj42RYe0S",
        "outputId": "fc5d9648-17dc-497b-fd27-00b5dd02bcf1"
      },
      "execution_count": null,
      "outputs": [
        {
          "output_type": "execute_result",
          "data": {
            "text/plain": [
              "'Hoje, eu comprei para a minha carteira algumas ações, por exemplo PETR4 e VALE3'"
            ],
            "application/vnd.google.colaboratory.intrinsic+json": {
              "type": "string"
            }
          },
          "metadata": {},
          "execution_count": 156
        }
      ]
    },
    {
      "cell_type": "code",
      "source": [
        "acoes"
      ],
      "metadata": {
        "colab": {
          "base_uri": "https://localhost:8080/"
        },
        "id": "HfhTb7W_Yn8y",
        "outputId": "bd1b3e66-fb74-4fc8-84d3-726d23af5f42"
      },
      "execution_count": null,
      "outputs": [
        {
          "output_type": "execute_result",
          "data": {
            "text/plain": [
              "['PETR4', 'VALE3', 'WEGE3']"
            ]
          },
          "metadata": {},
          "execution_count": 157
        }
      ]
    },
    {
      "cell_type": "code",
      "source": [
        "enunciado = \"Hoje, eu comprei para a minha carteira, as ações \""
      ],
      "metadata": {
        "id": "FooeojEtYxBy"
      },
      "execution_count": null,
      "outputs": []
    },
    {
      "cell_type": "code",
      "source": [
        "acoes[1]"
      ],
      "metadata": {
        "colab": {
          "base_uri": "https://localhost:8080/",
          "height": 35
        },
        "id": "opPGUzTaY40C",
        "outputId": "f49f0c1f-e021-41db-fb55-f0dd459a078a"
      },
      "execution_count": null,
      "outputs": [
        {
          "output_type": "execute_result",
          "data": {
            "text/plain": [
              "'VALE3'"
            ],
            "application/vnd.google.colaboratory.intrinsic+json": {
              "type": "string"
            }
          },
          "metadata": {},
          "execution_count": 159
        }
      ]
    },
    {
      "cell_type": "code",
      "source": [
        "acoes[2]"
      ],
      "metadata": {
        "colab": {
          "base_uri": "https://localhost:8080/",
          "height": 35
        },
        "id": "LZ_L3KLVZEYI",
        "outputId": "7c582514-c34f-44cc-f8c3-d7eb96d29c10"
      },
      "execution_count": null,
      "outputs": [
        {
          "output_type": "execute_result",
          "data": {
            "text/plain": [
              "'WEGE3'"
            ],
            "application/vnd.google.colaboratory.intrinsic+json": {
              "type": "string"
            }
          },
          "metadata": {},
          "execution_count": 160
        }
      ]
    },
    {
      "cell_type": "code",
      "source": [
        "enunciado + acoes[1] + \" e \" + acoes[2]"
      ],
      "metadata": {
        "colab": {
          "base_uri": "https://localhost:8080/",
          "height": 35
        },
        "id": "wuqw0b3IZFT4",
        "outputId": "407c79d8-0619-4cb5-c75b-24d3cf08e4f1"
      },
      "execution_count": null,
      "outputs": [
        {
          "output_type": "execute_result",
          "data": {
            "text/plain": [
              "'Hoje, eu comprei para a minha carteira, as ações VALE3 e WEGE3'"
            ],
            "application/vnd.google.colaboratory.intrinsic+json": {
              "type": "string"
            }
          },
          "metadata": {},
          "execution_count": 161
        }
      ]
    },
    {
      "cell_type": "markdown",
      "source": [
        "Propriedades das listas"
      ],
      "metadata": {
        "id": "BYm4dE-RZJhi"
      }
    },
    {
      "cell_type": "code",
      "source": [
        "acoes"
      ],
      "metadata": {
        "colab": {
          "base_uri": "https://localhost:8080/"
        },
        "id": "NFKrGal0ZXIi",
        "outputId": "fcbbbfcf-9031-495c-eea6-1a5ed79fa29e"
      },
      "execution_count": null,
      "outputs": [
        {
          "output_type": "execute_result",
          "data": {
            "text/plain": [
              "['PETR4', 'VALE3', 'WEGE3']"
            ]
          },
          "metadata": {},
          "execution_count": 162
        }
      ]
    },
    {
      "cell_type": "code",
      "source": [
        "acoes[0] = 'PRIO3'"
      ],
      "metadata": {
        "id": "9sUoHsW3ZcEY"
      },
      "execution_count": null,
      "outputs": []
    },
    {
      "cell_type": "code",
      "source": [
        "acoes"
      ],
      "metadata": {
        "colab": {
          "base_uri": "https://localhost:8080/"
        },
        "id": "obuBCoOkZfaw",
        "outputId": "ced10330-61a5-464a-ad54-50c5eca70e7d"
      },
      "execution_count": null,
      "outputs": [
        {
          "output_type": "execute_result",
          "data": {
            "text/plain": [
              "['PRIO3', 'VALE3', 'WEGE3']"
            ]
          },
          "metadata": {},
          "execution_count": 164
        }
      ]
    },
    {
      "cell_type": "markdown",
      "source": [
        "Adição e remoção"
      ],
      "metadata": {
        "id": "kZOEywjAZgh5"
      }
    },
    {
      "cell_type": "code",
      "source": [
        "novos_papeis = ['BBDC4', 'ITUB4']"
      ],
      "metadata": {
        "id": "4Fbu-MOqZjiY"
      },
      "execution_count": null,
      "outputs": []
    },
    {
      "cell_type": "code",
      "source": [
        "nova_lista = acoes + novos_papeis"
      ],
      "metadata": {
        "id": "SIPZIvWIZoVZ"
      },
      "execution_count": null,
      "outputs": []
    },
    {
      "cell_type": "code",
      "source": [
        "nova_lista"
      ],
      "metadata": {
        "colab": {
          "base_uri": "https://localhost:8080/"
        },
        "id": "kpn7NzQMZ9BJ",
        "outputId": "a5bca49a-1aad-4ab4-bcea-a1e94d9223a3"
      },
      "execution_count": null,
      "outputs": [
        {
          "output_type": "execute_result",
          "data": {
            "text/plain": [
              "['PRIO3', 'VALE3', 'WEGE3', 'BBDC4', 'ITUB4']"
            ]
          },
          "metadata": {},
          "execution_count": 167
        }
      ]
    },
    {
      "cell_type": "markdown",
      "source": [
        "Método 'append'"
      ],
      "metadata": {
        "id": "ZLQpSDkFZqLZ"
      }
    },
    {
      "cell_type": "code",
      "source": [
        "nova_lista.append('BBAS3')"
      ],
      "metadata": {
        "id": "hfTIvr54ZvNw"
      },
      "execution_count": null,
      "outputs": []
    },
    {
      "cell_type": "code",
      "source": [
        "nova_lista"
      ],
      "metadata": {
        "colab": {
          "base_uri": "https://localhost:8080/"
        },
        "id": "Y-KPw848Z0bg",
        "outputId": "f2aa42fe-9ae3-4680-cddd-46f9da65c973"
      },
      "execution_count": null,
      "outputs": [
        {
          "output_type": "execute_result",
          "data": {
            "text/plain": [
              "['PRIO3', 'VALE3', 'WEGE3', 'BBDC4', 'ITUB4', 'BBAS3']"
            ]
          },
          "metadata": {},
          "execution_count": 169
        }
      ]
    },
    {
      "cell_type": "markdown",
      "source": [
        "Remover último elemento"
      ],
      "metadata": {
        "id": "ozgr81d9aPga"
      }
    },
    {
      "cell_type": "code",
      "source": [
        "nova_lista.pop()"
      ],
      "metadata": {
        "colab": {
          "base_uri": "https://localhost:8080/",
          "height": 35
        },
        "id": "L3fosrJZaVQ7",
        "outputId": "da38ff5d-d756-4847-efff-9160cf455983"
      },
      "execution_count": null,
      "outputs": [
        {
          "output_type": "execute_result",
          "data": {
            "text/plain": [
              "'BBAS3'"
            ],
            "application/vnd.google.colaboratory.intrinsic+json": {
              "type": "string"
            }
          },
          "metadata": {},
          "execution_count": 170
        }
      ]
    },
    {
      "cell_type": "code",
      "source": [
        "nova_lista"
      ],
      "metadata": {
        "colab": {
          "base_uri": "https://localhost:8080/"
        },
        "id": "3MT4U-8oaYNC",
        "outputId": "dee1ef75-da53-49bb-98cb-0c2cdc56f69e"
      },
      "execution_count": null,
      "outputs": [
        {
          "output_type": "execute_result",
          "data": {
            "text/plain": [
              "['PRIO3', 'VALE3', 'WEGE3', 'BBDC4', 'ITUB4']"
            ]
          },
          "metadata": {},
          "execution_count": 171
        }
      ]
    },
    {
      "cell_type": "markdown",
      "source": [
        "Também podemos criar listas compostas de outras listas"
      ],
      "metadata": {
        "id": "9G64F7nsacIK"
      }
    },
    {
      "cell_type": "code",
      "source": [
        "cliente01 = ['PETR4', 'VALE3', 'ABEV3']\n",
        "cliente02 = ['GOAU4', 'MGLU3', 'LREN3']\n",
        "cliente03 = ['ITUB4', 'PRIO3', 'WEGE3']"
      ],
      "metadata": {
        "id": "4rDfaxMDahZ3"
      },
      "execution_count": null,
      "outputs": []
    },
    {
      "cell_type": "code",
      "source": [
        "clientela = [cliente01, cliente02, cliente03]"
      ],
      "metadata": {
        "id": "iNyEhVnranHg"
      },
      "execution_count": null,
      "outputs": []
    },
    {
      "cell_type": "code",
      "source": [
        "clientela"
      ],
      "metadata": {
        "colab": {
          "base_uri": "https://localhost:8080/"
        },
        "id": "oJbAYxUparow",
        "outputId": "1e21bb32-92fc-4fe5-d997-117fe76dfd9b"
      },
      "execution_count": null,
      "outputs": [
        {
          "output_type": "execute_result",
          "data": {
            "text/plain": [
              "[['PETR4', 'VALE3', 'ABEV3'],\n",
              " ['GOAU4', 'MGLU3', 'LREN3'],\n",
              " ['ITUB4', 'PRIO3', 'WEGE3']]"
            ]
          },
          "metadata": {},
          "execution_count": 174
        }
      ]
    },
    {
      "cell_type": "code",
      "source": [
        "clientela[0]"
      ],
      "metadata": {
        "colab": {
          "base_uri": "https://localhost:8080/"
        },
        "id": "3gUEzIT6asno",
        "outputId": "3313ebeb-e5f4-4356-9e4c-9221e14ab674"
      },
      "execution_count": null,
      "outputs": [
        {
          "output_type": "execute_result",
          "data": {
            "text/plain": [
              "['PETR4', 'VALE3', 'ABEV3']"
            ]
          },
          "metadata": {},
          "execution_count": 175
        }
      ]
    },
    {
      "cell_type": "code",
      "source": [
        "clientela[0][0]"
      ],
      "metadata": {
        "colab": {
          "base_uri": "https://localhost:8080/",
          "height": 35
        },
        "id": "B8sRD0H6azQD",
        "outputId": "a70f85d7-dec5-47b5-f9f9-18915555f57f"
      },
      "execution_count": null,
      "outputs": [
        {
          "output_type": "execute_result",
          "data": {
            "text/plain": [
              "'PETR4'"
            ],
            "application/vnd.google.colaboratory.intrinsic+json": {
              "type": "string"
            }
          },
          "metadata": {},
          "execution_count": 176
        }
      ]
    },
    {
      "cell_type": "code",
      "source": [
        "clientela[0][1]"
      ],
      "metadata": {
        "colab": {
          "base_uri": "https://localhost:8080/",
          "height": 35
        },
        "id": "ZvslbPnHa8Gy",
        "outputId": "998eb6bf-9247-4d97-bbf4-9ad2e179b732"
      },
      "execution_count": null,
      "outputs": [
        {
          "output_type": "execute_result",
          "data": {
            "text/plain": [
              "'VALE3'"
            ],
            "application/vnd.google.colaboratory.intrinsic+json": {
              "type": "string"
            }
          },
          "metadata": {},
          "execution_count": 177
        }
      ]
    },
    {
      "cell_type": "code",
      "source": [
        "clientela[0][2]"
      ],
      "metadata": {
        "colab": {
          "base_uri": "https://localhost:8080/",
          "height": 35
        },
        "id": "91n-qCu5a_YA",
        "outputId": "643f1c68-268c-4002-e29b-defb1dd451bd"
      },
      "execution_count": null,
      "outputs": [
        {
          "output_type": "execute_result",
          "data": {
            "text/plain": [
              "'ABEV3'"
            ],
            "application/vnd.google.colaboratory.intrinsic+json": {
              "type": "string"
            }
          },
          "metadata": {},
          "execution_count": 178
        }
      ]
    },
    {
      "cell_type": "code",
      "source": [
        "clientela[1][0]"
      ],
      "metadata": {
        "colab": {
          "base_uri": "https://localhost:8080/",
          "height": 35
        },
        "id": "UZlhpmPebBK5",
        "outputId": "04048f2b-7e02-49ea-bdb2-dc8aa71f0a05"
      },
      "execution_count": null,
      "outputs": [
        {
          "output_type": "execute_result",
          "data": {
            "text/plain": [
              "'GOAU4'"
            ],
            "application/vnd.google.colaboratory.intrinsic+json": {
              "type": "string"
            }
          },
          "metadata": {},
          "execution_count": 179
        }
      ]
    },
    {
      "cell_type": "markdown",
      "source": [
        "## 2. Dicionários"
      ],
      "metadata": {
        "id": "2TRw4Vv0bE7w"
      }
    },
    {
      "cell_type": "markdown",
      "source": [
        "A estrutura básica dos dicionários é\n",
        "\n",
        "{key: value}"
      ],
      "metadata": {
        "id": "b6RXoA19bMyG"
      }
    },
    {
      "cell_type": "code",
      "source": [
        "{'PETR4': 100}"
      ],
      "metadata": {
        "colab": {
          "base_uri": "https://localhost:8080/"
        },
        "id": "rfYuaymHckGg",
        "outputId": "d0f8c83b-2f76-4e8b-c7a2-bb299998c6a7"
      },
      "execution_count": null,
      "outputs": [
        {
          "output_type": "execute_result",
          "data": {
            "text/plain": [
              "{'PETR4': 100}"
            ]
          },
          "metadata": {},
          "execution_count": 180
        }
      ]
    },
    {
      "cell_type": "code",
      "source": [
        "alocacoes = {'PETR4': 100, 'MGLU3': 50, 'VALE3': 100}"
      ],
      "metadata": {
        "id": "fsU5vvF2cxdx"
      },
      "execution_count": null,
      "outputs": []
    },
    {
      "cell_type": "code",
      "source": [
        "type(alocacoes)"
      ],
      "metadata": {
        "colab": {
          "base_uri": "https://localhost:8080/"
        },
        "id": "sLgZWorMdF6h",
        "outputId": "d60fd56b-b751-4ee4-da83-e8c46468a762"
      },
      "execution_count": null,
      "outputs": [
        {
          "output_type": "execute_result",
          "data": {
            "text/plain": [
              "dict"
            ]
          },
          "metadata": {},
          "execution_count": 182
        }
      ]
    },
    {
      "cell_type": "code",
      "source": [
        "precos = {'PETR4':24.89,\n",
        " 'MGLU3':2.68,\n",
        " 'BBDC4':15.14}"
      ],
      "metadata": {
        "id": "nzIXZO4zdJ8x"
      },
      "execution_count": null,
      "outputs": []
    },
    {
      "cell_type": "code",
      "source": [
        "precos.keys()"
      ],
      "metadata": {
        "colab": {
          "base_uri": "https://localhost:8080/"
        },
        "id": "lRUKZkKpdSVI",
        "outputId": "33be5371-b51c-477e-8b7e-196656d8c59a"
      },
      "execution_count": null,
      "outputs": [
        {
          "output_type": "execute_result",
          "data": {
            "text/plain": [
              "dict_keys(['PETR4', 'MGLU3', 'BBDC4'])"
            ]
          },
          "metadata": {},
          "execution_count": 184
        }
      ]
    },
    {
      "cell_type": "code",
      "source": [
        "precos.values()"
      ],
      "metadata": {
        "colab": {
          "base_uri": "https://localhost:8080/"
        },
        "id": "axZLEJiMdV5h",
        "outputId": "43993304-e2f1-42fc-a59a-b221b398bc53"
      },
      "execution_count": null,
      "outputs": [
        {
          "output_type": "execute_result",
          "data": {
            "text/plain": [
              "dict_values([24.89, 2.68, 15.14])"
            ]
          },
          "metadata": {},
          "execution_count": 185
        }
      ]
    },
    {
      "cell_type": "code",
      "source": [
        "list(precos.keys())[1] #Indexar - trazer posição 1"
      ],
      "metadata": {
        "colab": {
          "base_uri": "https://localhost:8080/",
          "height": 35
        },
        "id": "P0NwJj1SdZEH",
        "outputId": "9fb48d71-93e9-4631-bc31-f072ba267518"
      },
      "execution_count": null,
      "outputs": [
        {
          "output_type": "execute_result",
          "data": {
            "text/plain": [
              "'MGLU3'"
            ],
            "application/vnd.google.colaboratory.intrinsic+json": {
              "type": "string"
            }
          },
          "metadata": {},
          "execution_count": 186
        }
      ]
    },
    {
      "cell_type": "code",
      "source": [
        "precos.items()"
      ],
      "metadata": {
        "colab": {
          "base_uri": "https://localhost:8080/"
        },
        "id": "XHa3GAv7ddgY",
        "outputId": "c0ed936d-8cd1-4df7-fdbb-50f7c25a6159"
      },
      "execution_count": null,
      "outputs": [
        {
          "output_type": "execute_result",
          "data": {
            "text/plain": [
              "dict_items([('PETR4', 24.89), ('MGLU3', 2.68), ('BBDC4', 15.14)])"
            ]
          },
          "metadata": {},
          "execution_count": 187
        }
      ]
    },
    {
      "cell_type": "markdown",
      "source": [
        "Propriedades"
      ],
      "metadata": {
        "id": "NiedpM6id6mH"
      }
    },
    {
      "cell_type": "code",
      "source": [
        "precos['MGLU3']"
      ],
      "metadata": {
        "colab": {
          "base_uri": "https://localhost:8080/"
        },
        "id": "JChPkuCPeE0L",
        "outputId": "6857f7fd-559f-4bdd-a077-d1dd09ceb59f"
      },
      "execution_count": null,
      "outputs": [
        {
          "output_type": "execute_result",
          "data": {
            "text/plain": [
              "2.68"
            ]
          },
          "metadata": {},
          "execution_count": 188
        }
      ]
    },
    {
      "cell_type": "code",
      "source": [
        "precos['PETR4'] = 25.15"
      ],
      "metadata": {
        "id": "Y1QprGoceJ-R"
      },
      "execution_count": null,
      "outputs": []
    },
    {
      "cell_type": "code",
      "source": [
        "precos"
      ],
      "metadata": {
        "colab": {
          "base_uri": "https://localhost:8080/"
        },
        "id": "7D3BZsxIeX9I",
        "outputId": "a474566a-251e-4758-c1e0-d62f3ff001a5"
      },
      "execution_count": null,
      "outputs": [
        {
          "output_type": "execute_result",
          "data": {
            "text/plain": [
              "{'PETR4': 25.15, 'MGLU3': 2.68, 'BBDC4': 15.14}"
            ]
          },
          "metadata": {},
          "execution_count": 190
        }
      ]
    },
    {
      "cell_type": "code",
      "source": [
        "precos['ITUB4'] = 18.45"
      ],
      "metadata": {
        "id": "3lpWKCeOeasJ"
      },
      "execution_count": null,
      "outputs": []
    },
    {
      "cell_type": "code",
      "source": [
        "precos"
      ],
      "metadata": {
        "colab": {
          "base_uri": "https://localhost:8080/"
        },
        "id": "qzP2I9rUeoCA",
        "outputId": "dd3cfcb2-5c07-4aa5-c00a-5a23ebb06b61"
      },
      "execution_count": null,
      "outputs": [
        {
          "output_type": "execute_result",
          "data": {
            "text/plain": [
              "{'PETR4': 25.15, 'MGLU3': 2.68, 'BBDC4': 15.14, 'ITUB4': 18.45}"
            ]
          },
          "metadata": {},
          "execution_count": 192
        }
      ]
    },
    {
      "cell_type": "markdown",
      "source": [
        "##3. Tuplas\n",
        "\n"
      ],
      "metadata": {
        "id": "VVdyQ76YJFKT"
      }
    },
    {
      "cell_type": "code",
      "source": [
        "(1,2,3)"
      ],
      "metadata": {
        "colab": {
          "base_uri": "https://localhost:8080/"
        },
        "id": "Zaf_3w2EJGjX",
        "outputId": "b64b38f1-b4d8-4c32-a8df-af206852bb00"
      },
      "execution_count": null,
      "outputs": [
        {
          "output_type": "execute_result",
          "data": {
            "text/plain": [
              "(1, 2, 3)"
            ]
          },
          "metadata": {},
          "execution_count": 266
        }
      ]
    },
    {
      "cell_type": "code",
      "source": [
        "tupla = (1, 2, 3)"
      ],
      "metadata": {
        "id": "Uqu2qz2yJGgp"
      },
      "execution_count": null,
      "outputs": []
    },
    {
      "cell_type": "code",
      "source": [
        "type(tupla)"
      ],
      "metadata": {
        "colab": {
          "base_uri": "https://localhost:8080/"
        },
        "id": "Zk3GIJSMJGfD",
        "outputId": "e882c7b9-d877-4ac7-8649-8d20661981df"
      },
      "execution_count": null,
      "outputs": [
        {
          "output_type": "execute_result",
          "data": {
            "text/plain": [
              "tuple"
            ]
          },
          "metadata": {},
          "execution_count": 268
        }
      ]
    },
    {
      "cell_type": "code",
      "source": [
        "nova_lista"
      ],
      "metadata": {
        "colab": {
          "base_uri": "https://localhost:8080/"
        },
        "id": "yHiv4rrVJGbL",
        "outputId": "3c02e984-40e5-469d-e042-0c673d150776"
      },
      "execution_count": null,
      "outputs": [
        {
          "output_type": "execute_result",
          "data": {
            "text/plain": [
              "['PRIO3', 'VALE3', 'WEGE3', 'BBDC4', 'ITUB4']"
            ]
          },
          "metadata": {},
          "execution_count": 269
        }
      ]
    },
    {
      "cell_type": "code",
      "source": [
        "tuple(nova_lista)"
      ],
      "metadata": {
        "colab": {
          "base_uri": "https://localhost:8080/"
        },
        "id": "AjymOdnYJGXk",
        "outputId": "6eeafe52-a1d9-4265-f96e-7736e4801b9e"
      },
      "execution_count": null,
      "outputs": [
        {
          "output_type": "execute_result",
          "data": {
            "text/plain": [
              "('PRIO3', 'VALE3', 'WEGE3', 'BBDC4', 'ITUB4')"
            ]
          },
          "metadata": {},
          "execution_count": 270
        }
      ]
    },
    {
      "cell_type": "code",
      "source": [
        "tupla_acoes = tuple(nova_lista)"
      ],
      "metadata": {
        "id": "MGDGKFscJGTb"
      },
      "execution_count": null,
      "outputs": []
    },
    {
      "cell_type": "code",
      "source": [
        "tupla_acoes[0]"
      ],
      "metadata": {
        "colab": {
          "base_uri": "https://localhost:8080/",
          "height": 35
        },
        "id": "PNy4ADmCJGL4",
        "outputId": "a940081f-3a5a-4cba-b3d7-af9924c7f332"
      },
      "execution_count": null,
      "outputs": [
        {
          "output_type": "execute_result",
          "data": {
            "text/plain": [
              "'PRIO3'"
            ],
            "application/vnd.google.colaboratory.intrinsic+json": {
              "type": "string"
            }
          },
          "metadata": {},
          "execution_count": 274
        }
      ]
    },
    {
      "cell_type": "code",
      "source": [
        "tupla_acoes[1]"
      ],
      "metadata": {
        "colab": {
          "base_uri": "https://localhost:8080/",
          "height": 35
        },
        "id": "0pTMr1QrJGB2",
        "outputId": "5ac484d3-3938-47e5-b2c7-343db2b98b73"
      },
      "execution_count": null,
      "outputs": [
        {
          "output_type": "execute_result",
          "data": {
            "text/plain": [
              "'VALE3'"
            ],
            "application/vnd.google.colaboratory.intrinsic+json": {
              "type": "string"
            }
          },
          "metadata": {},
          "execution_count": 275
        }
      ]
    },
    {
      "cell_type": "code",
      "source": [
        "# NÃO PODE SER UTILIZADO DESTA FORMA==>tupla_acoes[0] = 'LREN3'"
      ],
      "metadata": {
        "id": "JeWuwVb2JFq7"
      },
      "execution_count": null,
      "outputs": []
    },
    {
      "cell_type": "markdown",
      "source": [
        "##4. Conjuntos"
      ],
      "metadata": {
        "id": "FBQxZVEzLHMr"
      }
    },
    {
      "cell_type": "code",
      "source": [
        "lista = [1,1,1,1,1,1,2,3,4]"
      ],
      "metadata": {
        "id": "HfzNnEnpLUfK"
      },
      "execution_count": null,
      "outputs": []
    },
    {
      "cell_type": "code",
      "source": [
        "set(lista)"
      ],
      "metadata": {
        "colab": {
          "base_uri": "https://localhost:8080/"
        },
        "id": "cUJyokLRLkQN",
        "outputId": "b3b76afa-9c0f-46b5-8135-5795f69a9348"
      },
      "execution_count": null,
      "outputs": [
        {
          "output_type": "execute_result",
          "data": {
            "text/plain": [
              "{1, 2, 3, 4}"
            ]
          },
          "metadata": {},
          "execution_count": 277
        }
      ]
    },
    {
      "cell_type": "code",
      "source": [
        "# set(1,2,3,4) vai dar erro. Mais de uma variavel"
      ],
      "metadata": {
        "id": "Huqc3vVYLyUd"
      },
      "execution_count": null,
      "outputs": []
    },
    {
      "cell_type": "code",
      "source": [
        "alguma_coisa = {1:1,2:1,3:1}"
      ],
      "metadata": {
        "id": "78jxiJlqL8ju"
      },
      "execution_count": null,
      "outputs": []
    },
    {
      "cell_type": "code",
      "source": [
        "type(alguma_coisa)"
      ],
      "metadata": {
        "colab": {
          "base_uri": "https://localhost:8080/"
        },
        "id": "tnsFSs0qMN7X",
        "outputId": "f56c5a80-99ab-4cac-abca-63795212f2ba"
      },
      "execution_count": null,
      "outputs": [
        {
          "output_type": "execute_result",
          "data": {
            "text/plain": [
              "dict"
            ]
          },
          "metadata": {},
          "execution_count": 281
        }
      ]
    },
    {
      "cell_type": "code",
      "source": [
        "alguma_coisa = {1,2,3}"
      ],
      "metadata": {
        "id": "-XRQLuoFMfx3"
      },
      "execution_count": null,
      "outputs": []
    },
    {
      "cell_type": "code",
      "source": [
        "type(alguma_coisa)"
      ],
      "metadata": {
        "colab": {
          "base_uri": "https://localhost:8080/"
        },
        "id": "uXp45UCCMjem",
        "outputId": "d2b0d3b0-a7ef-4e78-a435-956849f51fc5"
      },
      "execution_count": null,
      "outputs": [
        {
          "output_type": "execute_result",
          "data": {
            "text/plain": [
              "set"
            ]
          },
          "metadata": {},
          "execution_count": 283
        }
      ]
    },
    {
      "cell_type": "code",
      "source": [
        "alguma_coisa = {'petr4', 'petr4', 'lren3', 'mglu3', 'wege3', 'prio3'}"
      ],
      "metadata": {
        "id": "QQ6bnGKYMqGj"
      },
      "execution_count": null,
      "outputs": []
    },
    {
      "cell_type": "code",
      "source": [
        "alguma_coisa.add('petr4')"
      ],
      "metadata": {
        "id": "Pum-BUrUM_mH"
      },
      "execution_count": null,
      "outputs": []
    },
    {
      "cell_type": "code",
      "source": [
        "alguma_coisa # não duplicou"
      ],
      "metadata": {
        "colab": {
          "base_uri": "https://localhost:8080/"
        },
        "id": "vNZrUQ9KNQSL",
        "outputId": "9cae7024-6a45-45c3-be04-e5e4e8c16941"
      },
      "execution_count": null,
      "outputs": [
        {
          "output_type": "execute_result",
          "data": {
            "text/plain": [
              "{'lren3', 'mglu3', 'petr4', 'prio3', 'wege3'}"
            ]
          },
          "metadata": {},
          "execution_count": 289
        }
      ]
    },
    {
      "cell_type": "code",
      "source": [
        "alguma_coisa.add('knri11')"
      ],
      "metadata": {
        "id": "ce9tocmeN3D8"
      },
      "execution_count": null,
      "outputs": []
    },
    {
      "cell_type": "code",
      "source": [
        "alguma_coisa"
      ],
      "metadata": {
        "colab": {
          "base_uri": "https://localhost:8080/"
        },
        "id": "4AP6d2i_N8Bu",
        "outputId": "4277bde8-2e32-4157-f261-7792171409ea"
      },
      "execution_count": null,
      "outputs": [
        {
          "output_type": "execute_result",
          "data": {
            "text/plain": [
              "{'knri11', 'lren3', 'mglu3', 'petr4', 'prio3', 'wege3'}"
            ]
          },
          "metadata": {},
          "execution_count": 291
        }
      ]
    }
  ]
}