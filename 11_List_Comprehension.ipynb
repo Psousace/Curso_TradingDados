{
  "nbformat": 4,
  "nbformat_minor": 0,
  "metadata": {
    "colab": {
      "provenance": [],
      "include_colab_link": true
    },
    "kernelspec": {
      "name": "python3",
      "display_name": "Python 3"
    },
    "language_info": {
      "name": "python"
    }
  },
  "cells": [
    {
      "cell_type": "markdown",
      "metadata": {
        "id": "view-in-github",
        "colab_type": "text"
      },
      "source": [
        "<a href=\"https://colab.research.google.com/github/Psousace/Curso_TradingDados/blob/main/11_List_Comprehension.ipynb\" target=\"_parent\"><img src=\"https://colab.research.google.com/assets/colab-badge.svg\" alt=\"Open In Colab\"/></a>"
      ]
    },
    {
      "cell_type": "markdown",
      "source": [
        "<center><img src = \"https://github.com/Trading-com-Dados/pmf/blob/main/logotipo-trading-com-dados.svg?raw=true\" width = \"200\">"
      ],
      "metadata": {
        "id": "NoGQ3itYnf9J"
      }
    },
    {
      "cell_type": "markdown",
      "source": [
        "# **Fundamentos da Programação em Python**\n"
      ],
      "metadata": {
        "id": "yYOEfGkBI8t6"
      }
    },
    {
      "cell_type": "markdown",
      "source": [
        "## List Comprehension"
      ],
      "metadata": {
        "id": "ggtOwQtbJ2Ar"
      }
    },
    {
      "cell_type": "markdown",
      "source": [
        "Forma de criar listas a partir de outras listas, baseadas em loops com uma estrutura de código mais resumida do que os \"for\" tradicionais"
      ],
      "metadata": {
        "id": "lxsxZ36gbtOM"
      }
    },
    {
      "cell_type": "markdown",
      "source": [
        "Exercício"
      ],
      "metadata": {
        "id": "cHiF6MCfhTu_"
      }
    },
    {
      "cell_type": "code",
      "source": [
        "acao = 'LREN3'"
      ],
      "metadata": {
        "id": "tksvdfRRhaTN"
      },
      "execution_count": null,
      "outputs": []
    },
    {
      "cell_type": "markdown",
      "source": [
        "Imagine que precisamos realizar a tarefa de transformar cada caractere na string acima em um item separado dentro de uma nova lista."
      ],
      "metadata": {
        "id": "KrnCOQ-GhcJH"
      }
    },
    {
      "cell_type": "markdown",
      "source": [
        "Como feríamos isso com nosso conhecimento em Python até agora?"
      ],
      "metadata": {
        "id": "MxgVWw-ehigW"
      }
    },
    {
      "cell_type": "code",
      "source": [
        "lista_caracteres = []"
      ],
      "metadata": {
        "id": "zjBnEHBPhtcN"
      },
      "execution_count": null,
      "outputs": []
    },
    {
      "cell_type": "code",
      "source": [
        "for caractere in acao:\n",
        "  lista_caracteres.append(caractere)"
      ],
      "metadata": {
        "id": "hByYu3_yhw7W"
      },
      "execution_count": null,
      "outputs": []
    },
    {
      "cell_type": "code",
      "source": [
        "lista_caracteres"
      ],
      "metadata": {
        "colab": {
          "base_uri": "https://localhost:8080/"
        },
        "id": "b2Y3L90BiDUu",
        "outputId": "90f1a7d4-eeba-4518-b86f-fff2c1e239c4"
      },
      "execution_count": null,
      "outputs": [
        {
          "output_type": "execute_result",
          "data": {
            "text/plain": [
              "['L', 'R', 'E', 'N', '3']"
            ]
          },
          "metadata": {},
          "execution_count": 4
        }
      ]
    },
    {
      "cell_type": "code",
      "source": [
        "lista_caracteres[0]"
      ],
      "metadata": {
        "colab": {
          "base_uri": "https://localhost:8080/",
          "height": 35
        },
        "id": "rYPGnU04iEXG",
        "outputId": "8c4e737d-e77f-4d42-badd-2658979f5554"
      },
      "execution_count": null,
      "outputs": [
        {
          "output_type": "execute_result",
          "data": {
            "text/plain": [
              "'L'"
            ],
            "application/vnd.google.colaboratory.intrinsic+json": {
              "type": "string"
            }
          },
          "metadata": {},
          "execution_count": 5
        }
      ]
    },
    {
      "cell_type": "code",
      "source": [
        "lista_caracteres[2]"
      ],
      "metadata": {
        "colab": {
          "base_uri": "https://localhost:8080/",
          "height": 35
        },
        "id": "GXi9WjWHiHWG",
        "outputId": "3b239bee-08b1-4256-ee37-72e768ea4fda"
      },
      "execution_count": null,
      "outputs": [
        {
          "output_type": "execute_result",
          "data": {
            "text/plain": [
              "'E'"
            ],
            "application/vnd.google.colaboratory.intrinsic+json": {
              "type": "string"
            }
          },
          "metadata": {},
          "execution_count": 6
        }
      ]
    },
    {
      "cell_type": "markdown",
      "source": [
        "E como fazer isso utilizando a compreensão de lista?"
      ],
      "metadata": {
        "id": "wuj5Wy28iJLX"
      }
    },
    {
      "cell_type": "code",
      "source": [
        "[caractere for caractere in acao]"
      ],
      "metadata": {
        "colab": {
          "base_uri": "https://localhost:8080/"
        },
        "id": "2KKV03Y9iPbh",
        "outputId": "44227d56-eac0-4a77-ba14-01a59cb67a00"
      },
      "execution_count": null,
      "outputs": [
        {
          "output_type": "execute_result",
          "data": {
            "text/plain": [
              "['L', 'R', 'E', 'N', '3']"
            ]
          },
          "metadata": {},
          "execution_count": 7
        }
      ]
    },
    {
      "cell_type": "markdown",
      "source": [
        "O output da compreensão de lista é uma nova lista"
      ],
      "metadata": {
        "id": "2G4W-GvQiq4S"
      }
    },
    {
      "cell_type": "markdown",
      "source": [
        "Exercício"
      ],
      "metadata": {
        "id": "p0WWy5pKizJP"
      }
    },
    {
      "cell_type": "markdown",
      "source": [
        "Imagine que você recebeu uma série de tickers que vieram incompletos. Antes de realizar sua rotina, precisa adicionar um número '3' aos nomes dos papéis. Como você faria?"
      ],
      "metadata": {
        "id": "913JURETi8m_"
      }
    },
    {
      "cell_type": "code",
      "source": [
        "ativos = ['MGLU', 'VALE', 'WEGE', 'LREN']"
      ],
      "metadata": {
        "id": "k6V_iTjZi_LX"
      },
      "execution_count": null,
      "outputs": []
    },
    {
      "cell_type": "code",
      "source": [
        "novos_tickers = []"
      ],
      "metadata": {
        "id": "fqnZ7aGLjVCu"
      },
      "execution_count": null,
      "outputs": []
    },
    {
      "cell_type": "code",
      "source": [
        "for item in ativos:\n",
        "  novos_tickers.append(item + '3')"
      ],
      "metadata": {
        "id": "xpn_uUL4jcsN"
      },
      "execution_count": null,
      "outputs": []
    },
    {
      "cell_type": "code",
      "source": [
        "novos_tickers"
      ],
      "metadata": {
        "colab": {
          "base_uri": "https://localhost:8080/"
        },
        "id": "_HKkN3zQjrje",
        "outputId": "612a4f05-bc4d-42f6-d460-bd038555fbb7"
      },
      "execution_count": null,
      "outputs": [
        {
          "output_type": "execute_result",
          "data": {
            "text/plain": [
              "['MGLU3', 'VALE3', 'WEGE3', 'LREN3']"
            ]
          },
          "metadata": {},
          "execution_count": 11
        }
      ]
    },
    {
      "cell_type": "markdown",
      "source": [
        "Podemos realizar essa tarefa com uma compreensão de lista de uma forma mais rápida."
      ],
      "metadata": {
        "id": "V_OF9fZljsbY"
      }
    },
    {
      "cell_type": "code",
      "source": [
        "[item + '3' for item in ativos]"
      ],
      "metadata": {
        "colab": {
          "base_uri": "https://localhost:8080/"
        },
        "id": "C8MCQYUrjxOJ",
        "outputId": "0c6facf0-7aa6-45eb-9d0e-ca0757bd86dd"
      },
      "execution_count": null,
      "outputs": [
        {
          "output_type": "execute_result",
          "data": {
            "text/plain": [
              "['MGLU3', 'VALE3', 'WEGE3', 'LREN3']"
            ]
          },
          "metadata": {},
          "execution_count": 12
        }
      ]
    },
    {
      "cell_type": "markdown",
      "source": [
        "Exercício\n",
        "\n",
        "Adicione um .SA ao fim de cada papel"
      ],
      "metadata": {
        "id": "-yb0GBTaj8RX"
      }
    },
    {
      "cell_type": "code",
      "source": [
        "acoes = \"ITUB4 MGLU3 MLAS3 PRIO3 PETR4 VALE3 WEGE3 POSI3\""
      ],
      "metadata": {
        "id": "odwat7bFkICZ"
      },
      "execution_count": null,
      "outputs": []
    },
    {
      "cell_type": "code",
      "source": [
        "acoes_modificadas = acoes.split()"
      ],
      "metadata": {
        "id": "WqxGWY1GkNM3"
      },
      "execution_count": null,
      "outputs": []
    },
    {
      "cell_type": "code",
      "source": [
        "acoes_modificadas"
      ],
      "metadata": {
        "colab": {
          "base_uri": "https://localhost:8080/"
        },
        "id": "hV26FY99koMu",
        "outputId": "d20c12e0-c6ba-49fe-b49e-8f121471ac3d"
      },
      "execution_count": null,
      "outputs": [
        {
          "output_type": "execute_result",
          "data": {
            "text/plain": [
              "['ITUB4', 'MGLU3', 'MLAS3', 'PRIO3', 'PETR4', 'VALE3', 'WEGE3', 'POSI3']"
            ]
          },
          "metadata": {},
          "execution_count": 15
        }
      ]
    },
    {
      "cell_type": "code",
      "source": [
        "[ papel + '.SA' for papel in acoes_modificadas]"
      ],
      "metadata": {
        "colab": {
          "base_uri": "https://localhost:8080/"
        },
        "id": "MMScdSGIlEzf",
        "outputId": "8c36ee1f-c8d0-4a8f-bc97-a8509d888598"
      },
      "execution_count": null,
      "outputs": [
        {
          "output_type": "execute_result",
          "data": {
            "text/plain": [
              "['ITUB4.SA',\n",
              " 'MGLU3.SA',\n",
              " 'MLAS3.SA',\n",
              " 'PRIO3.SA',\n",
              " 'PETR4.SA',\n",
              " 'VALE3.SA',\n",
              " 'WEGE3.SA',\n",
              " 'POSI3.SA']"
            ]
          },
          "metadata": {},
          "execution_count": 16
        }
      ]
    },
    {
      "cell_type": "markdown",
      "source": [
        "Operador 'f'"
      ],
      "metadata": {
        "id": "GTqvkAFxlVZY"
      }
    },
    {
      "cell_type": "code",
      "source": [
        "'Hoje meu cliente comprou 500 ações de PETR4'"
      ],
      "metadata": {
        "colab": {
          "base_uri": "https://localhost:8080/",
          "height": 35
        },
        "id": "z8gBt9jYllLw",
        "outputId": "7845c6a9-5325-48f1-ce8a-91d9543201f2"
      },
      "execution_count": null,
      "outputs": [
        {
          "output_type": "execute_result",
          "data": {
            "text/plain": [
              "'Hoje meu cliente comprou 500 ações de PETR4'"
            ],
            "application/vnd.google.colaboratory.intrinsic+json": {
              "type": "string"
            }
          },
          "metadata": {},
          "execution_count": 17
        }
      ]
    },
    {
      "cell_type": "code",
      "source": [
        "papel = 'VALE3'"
      ],
      "metadata": {
        "id": "6yBXZ6ZjlsaP"
      },
      "execution_count": null,
      "outputs": []
    },
    {
      "cell_type": "code",
      "source": [
        "'Hoje meu cliente comprou 500 ações de ' + papel"
      ],
      "metadata": {
        "colab": {
          "base_uri": "https://localhost:8080/",
          "height": 35
        },
        "id": "VeJ31YCul0lP",
        "outputId": "d67034ef-b91e-4c40-b5b2-d0e6c4d8c041"
      },
      "execution_count": null,
      "outputs": [
        {
          "output_type": "execute_result",
          "data": {
            "text/plain": [
              "'Hoje meu cliente comprou 500 ações de VALE3'"
            ],
            "application/vnd.google.colaboratory.intrinsic+json": {
              "type": "string"
            }
          },
          "metadata": {},
          "execution_count": 19
        }
      ]
    },
    {
      "cell_type": "code",
      "source": [
        "f'Hoje meu cliente comprou 500 ações de {papel}'"
      ],
      "metadata": {
        "colab": {
          "base_uri": "https://localhost:8080/",
          "height": 35
        },
        "id": "Sub7ut4ql8So",
        "outputId": "36cd8d38-4cb5-45bd-ddcd-76a5efadfc50"
      },
      "execution_count": null,
      "outputs": [
        {
          "output_type": "execute_result",
          "data": {
            "text/plain": [
              "'Hoje meu cliente comprou 500 ações de VALE3'"
            ],
            "application/vnd.google.colaboratory.intrinsic+json": {
              "type": "string"
            }
          },
          "metadata": {},
          "execution_count": 20
        }
      ]
    },
    {
      "cell_type": "code",
      "source": [
        "f'Hoje meu cliente comprou 500 ações de papel'"
      ],
      "metadata": {
        "colab": {
          "base_uri": "https://localhost:8080/",
          "height": 35
        },
        "id": "4CkHN2oLmMeH",
        "outputId": "a773fd36-ec9d-4955-e0ad-c312fa12466e"
      },
      "execution_count": null,
      "outputs": [
        {
          "output_type": "execute_result",
          "data": {
            "text/plain": [
              "'Hoje meu cliente comprou 500 ações de papel'"
            ],
            "application/vnd.google.colaboratory.intrinsic+json": {
              "type": "string"
            }
          },
          "metadata": {},
          "execution_count": 21
        }
      ]
    },
    {
      "cell_type": "code",
      "source": [
        "[ f'{papel}.SA' for papel in acoes_modificadas]"
      ],
      "metadata": {
        "colab": {
          "base_uri": "https://localhost:8080/"
        },
        "id": "h3QqaMaBmVM5",
        "outputId": "d7e9690b-8b96-48b9-8e42-01766395407f"
      },
      "execution_count": null,
      "outputs": [
        {
          "output_type": "execute_result",
          "data": {
            "text/plain": [
              "['ITUB4.SA',\n",
              " 'MGLU3.SA',\n",
              " 'MLAS3.SA',\n",
              " 'PRIO3.SA',\n",
              " 'PETR4.SA',\n",
              " 'VALE3.SA',\n",
              " 'WEGE3.SA',\n",
              " 'POSI3.SA']"
            ]
          },
          "metadata": {},
          "execution_count": 22
        }
      ]
    },
    {
      "cell_type": "code",
      "source": [],
      "metadata": {
        "id": "lp619-fxmfUX"
      },
      "execution_count": null,
      "outputs": []
    }
  ]
}