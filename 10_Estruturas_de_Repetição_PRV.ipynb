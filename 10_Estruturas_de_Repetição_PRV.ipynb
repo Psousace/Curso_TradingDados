{
  "nbformat": 4,
  "nbformat_minor": 0,
  "metadata": {
    "colab": {
      "provenance": [],
      "collapsed_sections": [
        "wT2Jj2GuBPuF"
      ],
      "include_colab_link": true
    },
    "kernelspec": {
      "name": "python3",
      "display_name": "Python 3"
    },
    "language_info": {
      "name": "python"
    }
  },
  "cells": [
    {
      "cell_type": "markdown",
      "metadata": {
        "id": "view-in-github",
        "colab_type": "text"
      },
      "source": [
        "<a href=\"https://colab.research.google.com/github/Psousace/Curso_TradingDados/blob/main/10_Estruturas_de_Repeti%C3%A7%C3%A3o_PRV.ipynb\" target=\"_parent\"><img src=\"https://colab.research.google.com/assets/colab-badge.svg\" alt=\"Open In Colab\"/></a>"
      ]
    },
    {
      "cell_type": "markdown",
      "source": [
        "<center><img src = \"https://github.com/Trading-com-Dados/pmf/blob/main/logotipo-trading-com-dados.svg?raw=true\" width = \"200\">"
      ],
      "metadata": {
        "id": "NoGQ3itYnf9J"
      }
    },
    {
      "cell_type": "markdown",
      "source": [
        "# **Fundamentos da Programação em Python**"
      ],
      "metadata": {
        "id": "yYOEfGkBI8t6"
      }
    },
    {
      "cell_type": "markdown",
      "source": [
        "## Estruturas de Repetição"
      ],
      "metadata": {
        "id": "ts71ppmgBNn2"
      }
    },
    {
      "cell_type": "markdown",
      "source": [
        "### For"
      ],
      "metadata": {
        "id": "wT2Jj2GuBPuF"
      }
    },
    {
      "cell_type": "code",
      "source": [
        "lista = [1, 2, 3]"
      ],
      "metadata": {
        "id": "rICb2kuWBsWl"
      },
      "execution_count": null,
      "outputs": []
    },
    {
      "cell_type": "markdown",
      "source": [
        "**loop**\n",
        "\n",
        "Vamos criar um pseudocódigo de um loop:\n",
        "\n",
        "para cada elemento dentro da lista:\n",
        "\n",
        "> imprima (elemento)\n"
      ],
      "metadata": {
        "id": "0FmLvMDRB1le"
      }
    },
    {
      "cell_type": "code",
      "source": [
        "for elemento in lista:\n",
        "  print(elemento)"
      ],
      "metadata": {
        "colab": {
          "base_uri": "https://localhost:8080/"
        },
        "id": "3hB2oTQeCIaW",
        "outputId": "05c04275-59c1-4279-9e95-36f20dbb9423"
      },
      "execution_count": null,
      "outputs": [
        {
          "output_type": "stream",
          "name": "stdout",
          "text": [
            "1\n",
            "2\n",
            "3\n"
          ]
        }
      ]
    },
    {
      "cell_type": "code",
      "source": [
        "for qualquer_coisa in lista:\n",
        "  print(qualquer_coisa)"
      ],
      "metadata": {
        "colab": {
          "base_uri": "https://localhost:8080/"
        },
        "id": "hC0GdC1yCdLf",
        "outputId": "9379d307-8e0a-48da-960e-5191f8e06e2b"
      },
      "execution_count": null,
      "outputs": [
        {
          "output_type": "stream",
          "name": "stdout",
          "text": [
            "1\n",
            "2\n",
            "3\n"
          ]
        }
      ]
    },
    {
      "cell_type": "code",
      "source": [
        "acoes = [\"BPAN4\", \"BBSE3\", \"BRFS3\", \"ECOR3\", \"ENGI11\", \"RAIL3\", \"SULA11\", \"VALE3\", \"WEGE3\"]"
      ],
      "metadata": {
        "id": "fvXJvjvjC_m9"
      },
      "execution_count": null,
      "outputs": []
    },
    {
      "cell_type": "code",
      "source": [
        "for qualquer_coisa in acoes:\n",
        "  print(qualquer_coisa)"
      ],
      "metadata": {
        "colab": {
          "base_uri": "https://localhost:8080/"
        },
        "id": "nEu59fQTDI_e",
        "outputId": "1a00de3e-04f3-4e13-e763-f0112cb89766"
      },
      "execution_count": null,
      "outputs": [
        {
          "output_type": "stream",
          "name": "stdout",
          "text": [
            "BPAN4\n",
            "BBSE3\n",
            "BRFS3\n",
            "ECOR3\n",
            "ENGI11\n",
            "RAIL3\n",
            "SULA11\n",
            "VALE3\n",
            "WEGE3\n"
          ]
        }
      ]
    },
    {
      "cell_type": "code",
      "source": [
        "for i in acoes:\n",
        "  print(i)"
      ],
      "metadata": {
        "colab": {
          "base_uri": "https://localhost:8080/"
        },
        "id": "RX-ftx4ADOAW",
        "outputId": "10f33985-52e3-4169-8ca7-623a5cdc7c1c"
      },
      "execution_count": null,
      "outputs": [
        {
          "output_type": "stream",
          "name": "stdout",
          "text": [
            "BPAN4\n",
            "BBSE3\n",
            "BRFS3\n",
            "ECOR3\n",
            "ENGI11\n",
            "RAIL3\n",
            "SULA11\n",
            "VALE3\n",
            "WEGE3\n"
          ]
        }
      ]
    },
    {
      "cell_type": "code",
      "source": [
        "for acao in acoes:\n",
        "  print(acao)"
      ],
      "metadata": {
        "colab": {
          "base_uri": "https://localhost:8080/"
        },
        "id": "EikzHAIvDXR-",
        "outputId": "447b14d4-3024-4dd7-fd4e-54e51d37b20a"
      },
      "execution_count": null,
      "outputs": [
        {
          "output_type": "stream",
          "name": "stdout",
          "text": [
            "BPAN4\n",
            "BBSE3\n",
            "BRFS3\n",
            "ECOR3\n",
            "ENGI11\n",
            "RAIL3\n",
            "SULA11\n",
            "VALE3\n",
            "WEGE3\n"
          ]
        }
      ]
    },
    {
      "cell_type": "markdown",
      "source": [
        "Nós podemos utilizar qualquer variável dentro do nosso loop desde que a lista onde o loop está iterando seja mantida.\n",
        "\n",
        "Exercício: Coloque um \".SA\" no final do ticker de cada papel acima.\n",
        "\n",
        "Já aprendemos aqui como concatenar strings"
      ],
      "metadata": {
        "id": "UKfmOqGdDaNm"
      }
    },
    {
      "cell_type": "code",
      "source": [
        "'VALE3' + '.SA'"
      ],
      "metadata": {
        "colab": {
          "base_uri": "https://localhost:8080/"
        },
        "id": "RkfPThOUDc3P",
        "outputId": "fa973392-fb4f-413b-b1af-c0c7994339f7"
      },
      "execution_count": null,
      "outputs": [
        {
          "output_type": "execute_result",
          "data": {
            "text/plain": [
              "'VALE3.SA'"
            ],
            "application/vnd.google.colaboratory.intrinsic+json": {
              "type": "string"
            }
          },
          "metadata": {},
          "execution_count": 57
        }
      ]
    },
    {
      "cell_type": "code",
      "source": [
        "for acao in acoes:\n",
        "  print(acao + '.SA')"
      ],
      "metadata": {
        "colab": {
          "base_uri": "https://localhost:8080/"
        },
        "id": "XDEHNmK3DuL3",
        "outputId": "48d15bd0-7ffa-4714-c5f2-62c6b9cb98ba"
      },
      "execution_count": null,
      "outputs": [
        {
          "output_type": "stream",
          "name": "stdout",
          "text": [
            "BPAN4.SA\n",
            "BBSE3.SA\n",
            "BRFS3.SA\n",
            "ECOR3.SA\n",
            "ENGI11.SA\n",
            "RAIL3.SA\n",
            "SULA11.SA\n",
            "VALE3.SA\n",
            "WEGE3.SA\n"
          ]
        }
      ]
    },
    {
      "cell_type": "code",
      "source": [
        "for acao in acoes:\n",
        "  acao_modificada = acao + '.SA'\n",
        "  print(acao_modificada)"
      ],
      "metadata": {
        "colab": {
          "base_uri": "https://localhost:8080/"
        },
        "id": "o-2EbzXbD35u",
        "outputId": "6942af36-449f-4eef-ffe9-40eed1ec6053"
      },
      "execution_count": null,
      "outputs": [
        {
          "output_type": "stream",
          "name": "stdout",
          "text": [
            "BPAN4.SA\n",
            "BBSE3.SA\n",
            "BRFS3.SA\n",
            "ECOR3.SA\n",
            "ENGI11.SA\n",
            "RAIL3.SA\n",
            "SULA11.SA\n",
            "VALE3.SA\n",
            "WEGE3.SA\n"
          ]
        }
      ]
    },
    {
      "cell_type": "code",
      "source": [
        "for acao in acoes:\n",
        "  display(acao + '.SA')"
      ],
      "metadata": {
        "colab": {
          "base_uri": "https://localhost:8080/"
        },
        "id": "VsmnMlEkEADP",
        "outputId": "480ea465-3d1a-4a0e-df27-124dcbeec361"
      },
      "execution_count": null,
      "outputs": [
        {
          "output_type": "display_data",
          "data": {
            "text/plain": [
              "'BPAN4.SA'"
            ],
            "application/vnd.google.colaboratory.intrinsic+json": {
              "type": "string"
            }
          },
          "metadata": {}
        },
        {
          "output_type": "display_data",
          "data": {
            "text/plain": [
              "'BBSE3.SA'"
            ],
            "application/vnd.google.colaboratory.intrinsic+json": {
              "type": "string"
            }
          },
          "metadata": {}
        },
        {
          "output_type": "display_data",
          "data": {
            "text/plain": [
              "'BRFS3.SA'"
            ],
            "application/vnd.google.colaboratory.intrinsic+json": {
              "type": "string"
            }
          },
          "metadata": {}
        },
        {
          "output_type": "display_data",
          "data": {
            "text/plain": [
              "'ECOR3.SA'"
            ],
            "application/vnd.google.colaboratory.intrinsic+json": {
              "type": "string"
            }
          },
          "metadata": {}
        },
        {
          "output_type": "display_data",
          "data": {
            "text/plain": [
              "'ENGI11.SA'"
            ],
            "application/vnd.google.colaboratory.intrinsic+json": {
              "type": "string"
            }
          },
          "metadata": {}
        },
        {
          "output_type": "display_data",
          "data": {
            "text/plain": [
              "'RAIL3.SA'"
            ],
            "application/vnd.google.colaboratory.intrinsic+json": {
              "type": "string"
            }
          },
          "metadata": {}
        },
        {
          "output_type": "display_data",
          "data": {
            "text/plain": [
              "'SULA11.SA'"
            ],
            "application/vnd.google.colaboratory.intrinsic+json": {
              "type": "string"
            }
          },
          "metadata": {}
        },
        {
          "output_type": "display_data",
          "data": {
            "text/plain": [
              "'VALE3.SA'"
            ],
            "application/vnd.google.colaboratory.intrinsic+json": {
              "type": "string"
            }
          },
          "metadata": {}
        },
        {
          "output_type": "display_data",
          "data": {
            "text/plain": [
              "'WEGE3.SA'"
            ],
            "application/vnd.google.colaboratory.intrinsic+json": {
              "type": "string"
            }
          },
          "metadata": {}
        }
      ]
    },
    {
      "cell_type": "markdown",
      "source": [
        "Exercício: crie uma nova lista que recebe o ticker das ações modificados, contendo o .SA no final."
      ],
      "metadata": {
        "id": "p7V4lF65EUt-"
      }
    },
    {
      "cell_type": "code",
      "source": [
        "acoes"
      ],
      "metadata": {
        "colab": {
          "base_uri": "https://localhost:8080/"
        },
        "id": "SDH0XlPAEmon",
        "outputId": "4ba371a9-5bfe-4a53-9509-5cd7d5302ce7"
      },
      "execution_count": null,
      "outputs": [
        {
          "output_type": "execute_result",
          "data": {
            "text/plain": [
              "['BPAN4',\n",
              " 'BBSE3',\n",
              " 'BRFS3',\n",
              " 'ECOR3',\n",
              " 'ENGI11',\n",
              " 'RAIL3',\n",
              " 'SULA11',\n",
              " 'VALE3',\n",
              " 'WEGE3']"
            ]
          },
          "metadata": {},
          "execution_count": 61
        }
      ]
    },
    {
      "cell_type": "code",
      "source": [
        "acoes.append('SUZB3')"
      ],
      "metadata": {
        "id": "nC16cX0oE4Pm"
      },
      "execution_count": null,
      "outputs": []
    },
    {
      "cell_type": "code",
      "source": [
        "acoes"
      ],
      "metadata": {
        "colab": {
          "base_uri": "https://localhost:8080/"
        },
        "id": "Od9UFmMmE7vl",
        "outputId": "794ec101-39dc-4e4a-8b1f-eac3e8b88b21"
      },
      "execution_count": null,
      "outputs": [
        {
          "output_type": "execute_result",
          "data": {
            "text/plain": [
              "['BPAN4',\n",
              " 'BBSE3',\n",
              " 'BRFS3',\n",
              " 'ECOR3',\n",
              " 'ENGI11',\n",
              " 'RAIL3',\n",
              " 'SULA11',\n",
              " 'VALE3',\n",
              " 'WEGE3',\n",
              " 'SUZB3']"
            ]
          },
          "metadata": {},
          "execution_count": 63
        }
      ]
    },
    {
      "cell_type": "markdown",
      "source": [
        "Nós podemos inicialmente criar uma lista vazia."
      ],
      "metadata": {
        "id": "zPZqxoQNE8gu"
      }
    },
    {
      "cell_type": "code",
      "source": [
        "acoes_modificadas = []"
      ],
      "metadata": {
        "id": "hZ9sCZRRFDaw"
      },
      "execution_count": null,
      "outputs": []
    },
    {
      "cell_type": "code",
      "source": [
        "acoes_modificadas"
      ],
      "metadata": {
        "colab": {
          "base_uri": "https://localhost:8080/"
        },
        "id": "6D1QCQL2FGpv",
        "outputId": "75b7637c-0eaa-4252-963a-f3dc4d0e6bb0"
      },
      "execution_count": null,
      "outputs": [
        {
          "output_type": "execute_result",
          "data": {
            "text/plain": [
              "[]"
            ]
          },
          "metadata": {},
          "execution_count": 65
        }
      ]
    },
    {
      "cell_type": "code",
      "source": [
        "for acao in acoes:\n",
        "  acao_modificada = acao + '.SA'\n",
        "  acoes_modificadas.append(acao_modificada)"
      ],
      "metadata": {
        "id": "UT236HVfFHX3"
      },
      "execution_count": null,
      "outputs": []
    },
    {
      "cell_type": "code",
      "source": [
        "acoes_modificadas"
      ],
      "metadata": {
        "colab": {
          "base_uri": "https://localhost:8080/"
        },
        "id": "2pSYc4CKFY82",
        "outputId": "a2e934d7-b1b4-452c-e2ec-7eb4c4c75ea8"
      },
      "execution_count": null,
      "outputs": [
        {
          "output_type": "execute_result",
          "data": {
            "text/plain": [
              "['BPAN4.SA',\n",
              " 'BBSE3.SA',\n",
              " 'BRFS3.SA',\n",
              " 'ECOR3.SA',\n",
              " 'ENGI11.SA',\n",
              " 'RAIL3.SA',\n",
              " 'SULA11.SA',\n",
              " 'VALE3.SA',\n",
              " 'WEGE3.SA',\n",
              " 'SUZB3.SA']"
            ]
          },
          "metadata": {},
          "execution_count": 67
        }
      ]
    },
    {
      "cell_type": "code",
      "source": [
        "for acao in acoes:\n",
        "  acoes_modificadas.append(acao + '.SA')"
      ],
      "metadata": {
        "id": "lwHLn537Faie"
      },
      "execution_count": null,
      "outputs": []
    },
    {
      "cell_type": "code",
      "source": [
        "acoes_modificadas"
      ],
      "metadata": {
        "colab": {
          "base_uri": "https://localhost:8080/"
        },
        "id": "eXN9P_LvFt2e",
        "outputId": "8cfc6f2e-e2bb-4972-e111-e51f5a0498e2"
      },
      "execution_count": null,
      "outputs": [
        {
          "output_type": "execute_result",
          "data": {
            "text/plain": [
              "['BPAN4.SA',\n",
              " 'BBSE3.SA',\n",
              " 'BRFS3.SA',\n",
              " 'ECOR3.SA',\n",
              " 'ENGI11.SA',\n",
              " 'RAIL3.SA',\n",
              " 'SULA11.SA',\n",
              " 'VALE3.SA',\n",
              " 'WEGE3.SA',\n",
              " 'SUZB3.SA',\n",
              " 'BPAN4.SA',\n",
              " 'BBSE3.SA',\n",
              " 'BRFS3.SA',\n",
              " 'ECOR3.SA',\n",
              " 'ENGI11.SA',\n",
              " 'RAIL3.SA',\n",
              " 'SULA11.SA',\n",
              " 'VALE3.SA',\n",
              " 'WEGE3.SA',\n",
              " 'SUZB3.SA']"
            ]
          },
          "metadata": {},
          "execution_count": 69
        }
      ]
    },
    {
      "cell_type": "markdown",
      "source": [
        "Para cada ativo, eu desejo exibir uma mensagem:"
      ],
      "metadata": {
        "id": "_TlydFC7Fu7u"
      }
    },
    {
      "cell_type": "code",
      "source": [
        "acoes"
      ],
      "metadata": {
        "colab": {
          "base_uri": "https://localhost:8080/"
        },
        "id": "cqAzepjEGhYY",
        "outputId": "f3eb2a6a-bcd8-48fb-9e57-646ded021cb3"
      },
      "execution_count": null,
      "outputs": [
        {
          "output_type": "execute_result",
          "data": {
            "text/plain": [
              "['BPAN4',\n",
              " 'BBSE3',\n",
              " 'BRFS3',\n",
              " 'ECOR3',\n",
              " 'ENGI11',\n",
              " 'RAIL3',\n",
              " 'SULA11',\n",
              " 'VALE3',\n",
              " 'WEGE3',\n",
              " 'SUZB3']"
            ]
          },
          "metadata": {},
          "execution_count": 70
        }
      ]
    },
    {
      "cell_type": "code",
      "source": [
        "mensagem = \"é um papel do Ibov\""
      ],
      "metadata": {
        "id": "T0Tv8JfaGht2"
      },
      "execution_count": null,
      "outputs": []
    },
    {
      "cell_type": "code",
      "source": [
        "for i in acoes:\n",
        "  nova_mensagem = i + \" \" + mensagem\n",
        "  print(nova_mensagem)"
      ],
      "metadata": {
        "colab": {
          "base_uri": "https://localhost:8080/"
        },
        "id": "3SQbey5MGk7-",
        "outputId": "20a1967d-c280-4363-f016-5b8359fec76e"
      },
      "execution_count": null,
      "outputs": [
        {
          "output_type": "stream",
          "name": "stdout",
          "text": [
            "BPAN4 é um papel do Ibov\n",
            "BBSE3 é um papel do Ibov\n",
            "BRFS3 é um papel do Ibov\n",
            "ECOR3 é um papel do Ibov\n",
            "ENGI11 é um papel do Ibov\n",
            "RAIL3 é um papel do Ibov\n",
            "SULA11 é um papel do Ibov\n",
            "VALE3 é um papel do Ibov\n",
            "WEGE3 é um papel do Ibov\n",
            "SUZB3 é um papel do Ibov\n"
          ]
        }
      ]
    },
    {
      "cell_type": "code",
      "source": [
        "for i in acoes:\n",
        "  print(i, mensagem)"
      ],
      "metadata": {
        "colab": {
          "base_uri": "https://localhost:8080/"
        },
        "id": "VaGLmHDnG-L-",
        "outputId": "4ce519ca-7e94-4f63-c124-71d533d6c10e"
      },
      "execution_count": null,
      "outputs": [
        {
          "output_type": "stream",
          "name": "stdout",
          "text": [
            "BPAN4 é um papel do Ibov\n",
            "BBSE3 é um papel do Ibov\n",
            "BRFS3 é um papel do Ibov\n",
            "ECOR3 é um papel do Ibov\n",
            "ENGI11 é um papel do Ibov\n",
            "RAIL3 é um papel do Ibov\n",
            "SULA11 é um papel do Ibov\n",
            "VALE3 é um papel do Ibov\n",
            "WEGE3 é um papel do Ibov\n",
            "SUZB3 é um papel do Ibov\n"
          ]
        }
      ]
    },
    {
      "cell_type": "code",
      "source": [
        "acoes.append('HCTR11')"
      ],
      "metadata": {
        "id": "TEcsVR5VHSW_"
      },
      "execution_count": null,
      "outputs": []
    },
    {
      "cell_type": "code",
      "source": [
        "acoes.append('BOVA11')"
      ],
      "metadata": {
        "id": "2YaJnZbRHfvm"
      },
      "execution_count": null,
      "outputs": []
    },
    {
      "cell_type": "code",
      "source": [
        "acoes.append('IVVB11')"
      ],
      "metadata": {
        "id": "WxbkIbisHhUP"
      },
      "execution_count": null,
      "outputs": []
    },
    {
      "cell_type": "code",
      "source": [
        "acoes.append('COCA34')"
      ],
      "metadata": {
        "id": "vLmRAq0HHi1u"
      },
      "execution_count": null,
      "outputs": []
    },
    {
      "cell_type": "code",
      "source": [
        "acoes"
      ],
      "metadata": {
        "colab": {
          "base_uri": "https://localhost:8080/"
        },
        "id": "VMIwwPf8HlCO",
        "outputId": "de0bcce3-cbd1-444e-b79c-8222b934147f"
      },
      "execution_count": null,
      "outputs": [
        {
          "output_type": "execute_result",
          "data": {
            "text/plain": [
              "['BPAN4',\n",
              " 'BBSE3',\n",
              " 'BRFS3',\n",
              " 'ECOR3',\n",
              " 'ENGI11',\n",
              " 'RAIL3',\n",
              " 'SULA11',\n",
              " 'VALE3',\n",
              " 'WEGE3',\n",
              " 'SUZB3',\n",
              " 'HCTR11',\n",
              " 'BOVA11',\n",
              " 'IVVB11',\n",
              " 'COCA34']"
            ]
          },
          "metadata": {},
          "execution_count": 78
        }
      ]
    },
    {
      "cell_type": "markdown",
      "source": [
        "Automação usando a função break para interromper o loop assim que uma condição for satisfeita (integrando 'for' e 'if').\n",
        "\n",
        "Atenção à indentação correta."
      ],
      "metadata": {
        "id": "b-VnQvyaHlxf"
      }
    },
    {
      "cell_type": "code",
      "source": [
        "for i in acoes:\n",
        "  print(i, mensagem)\n",
        "  if i == 'SUZB3':\n",
        "    break"
      ],
      "metadata": {
        "colab": {
          "base_uri": "https://localhost:8080/"
        },
        "id": "xE8gCSAeHslA",
        "outputId": "f7a8cb05-fd53-4ab5-d683-ef2ac0d7a27e"
      },
      "execution_count": null,
      "outputs": [
        {
          "output_type": "stream",
          "name": "stdout",
          "text": [
            "BPAN4 é um papel do Ibov\n",
            "BBSE3 é um papel do Ibov\n",
            "BRFS3 é um papel do Ibov\n",
            "ECOR3 é um papel do Ibov\n",
            "ENGI11 é um papel do Ibov\n",
            "RAIL3 é um papel do Ibov\n",
            "SULA11 é um papel do Ibov\n",
            "VALE3 é um papel do Ibov\n",
            "WEGE3 é um papel do Ibov\n",
            "SUZB3 é um papel do Ibov\n"
          ]
        }
      ]
    },
    {
      "cell_type": "markdown",
      "source": [
        "Vamos lembrar dos dicionários"
      ],
      "metadata": {
        "id": "gIWmij7aIhhY"
      }
    },
    {
      "cell_type": "code",
      "source": [
        "precos = {'PETR4':30,\n",
        "          'VALE3': 102,\n",
        "          'WEGE3': 34}"
      ],
      "metadata": {
        "id": "TqTWugFLIzp7"
      },
      "execution_count": null,
      "outputs": []
    },
    {
      "cell_type": "code",
      "source": [
        "precos.keys()"
      ],
      "metadata": {
        "colab": {
          "base_uri": "https://localhost:8080/"
        },
        "id": "pbZSlQnVI2AY",
        "outputId": "c31b0437-44c8-4bb5-8bcb-9276bbf0ace2"
      },
      "execution_count": null,
      "outputs": [
        {
          "output_type": "execute_result",
          "data": {
            "text/plain": [
              "dict_keys(['PETR4', 'VALE3', 'WEGE3'])"
            ]
          },
          "metadata": {},
          "execution_count": 81
        }
      ]
    },
    {
      "cell_type": "code",
      "source": [
        "precos.values()"
      ],
      "metadata": {
        "colab": {
          "base_uri": "https://localhost:8080/"
        },
        "id": "kPl8l5STI6HG",
        "outputId": "e9c62115-db3b-441f-d900-0a589182203d"
      },
      "execution_count": null,
      "outputs": [
        {
          "output_type": "execute_result",
          "data": {
            "text/plain": [
              "dict_values([30, 102, 34])"
            ]
          },
          "metadata": {},
          "execution_count": 82
        }
      ]
    },
    {
      "cell_type": "code",
      "source": [
        "list(precos.keys())"
      ],
      "metadata": {
        "colab": {
          "base_uri": "https://localhost:8080/"
        },
        "id": "eh8otaeYI8Ap",
        "outputId": "25355d89-af06-4df2-a099-7ac5b3c53a8f"
      },
      "execution_count": null,
      "outputs": [
        {
          "output_type": "execute_result",
          "data": {
            "text/plain": [
              "['PETR4', 'VALE3', 'WEGE3']"
            ]
          },
          "metadata": {},
          "execution_count": 83
        }
      ]
    },
    {
      "cell_type": "markdown",
      "source": [
        "Se isso é uma lista, pode ser indexada."
      ],
      "metadata": {
        "id": "5DOpqPUwI-tf"
      }
    },
    {
      "cell_type": "code",
      "source": [
        "list(precos.keys())[0]"
      ],
      "metadata": {
        "colab": {
          "base_uri": "https://localhost:8080/"
        },
        "id": "FvPV0LrCJDFY",
        "outputId": "40185ea9-a186-41e2-9dab-ad7fe2b13c4e"
      },
      "execution_count": null,
      "outputs": [
        {
          "output_type": "execute_result",
          "data": {
            "text/plain": [
              "'PETR4'"
            ],
            "application/vnd.google.colaboratory.intrinsic+json": {
              "type": "string"
            }
          },
          "metadata": {},
          "execution_count": 84
        }
      ]
    },
    {
      "cell_type": "code",
      "source": [
        "list(precos.keys())[1]"
      ],
      "metadata": {
        "colab": {
          "base_uri": "https://localhost:8080/"
        },
        "id": "UGTkTaYQJFgo",
        "outputId": "9f1809fa-7340-47b3-b3e8-3d00ffa5fe0f"
      },
      "execution_count": null,
      "outputs": [
        {
          "output_type": "execute_result",
          "data": {
            "text/plain": [
              "'VALE3'"
            ],
            "application/vnd.google.colaboratory.intrinsic+json": {
              "type": "string"
            }
          },
          "metadata": {},
          "execution_count": 85
        }
      ]
    },
    {
      "cell_type": "code",
      "source": [
        "\"A ação XXXX está com o preço de YY,YY neste momento\""
      ],
      "metadata": {
        "colab": {
          "base_uri": "https://localhost:8080/"
        },
        "id": "lcPrbDuEJHPH",
        "outputId": "5f4e5b99-5a46-4c29-8684-af39739211bb"
      },
      "execution_count": null,
      "outputs": [
        {
          "output_type": "execute_result",
          "data": {
            "text/plain": [
              "'A ação XXXX está com o preço de YY,YY neste momento'"
            ],
            "application/vnd.google.colaboratory.intrinsic+json": {
              "type": "string"
            }
          },
          "metadata": {},
          "execution_count": 86
        }
      ]
    },
    {
      "cell_type": "code",
      "source": [
        "\"A ação \" + list(precos.keys())[0] + \" está com o preço de YY,YY neste momento\""
      ],
      "metadata": {
        "colab": {
          "base_uri": "https://localhost:8080/"
        },
        "id": "OxAfO0x1JO9H",
        "outputId": "54e263d3-d6fe-4f3b-967f-b25aedc0ec82"
      },
      "execution_count": null,
      "outputs": [
        {
          "output_type": "execute_result",
          "data": {
            "text/plain": [
              "'A ação PETR4 está com o preço de YY,YY neste momento'"
            ],
            "application/vnd.google.colaboratory.intrinsic+json": {
              "type": "string"
            }
          },
          "metadata": {},
          "execution_count": 87
        }
      ]
    },
    {
      "cell_type": "code",
      "source": [
        "list(precos.values())[0]"
      ],
      "metadata": {
        "colab": {
          "base_uri": "https://localhost:8080/"
        },
        "id": "BYr4lJpdJwVr",
        "outputId": "2c3bca60-6b89-44d7-b6b5-4a176802a925"
      },
      "execution_count": null,
      "outputs": [
        {
          "output_type": "execute_result",
          "data": {
            "text/plain": [
              "30"
            ]
          },
          "metadata": {},
          "execution_count": 88
        }
      ]
    },
    {
      "cell_type": "code",
      "source": [
        "str(list(precos.values())[0])"
      ],
      "metadata": {
        "colab": {
          "base_uri": "https://localhost:8080/"
        },
        "id": "GVF7UnoaKLVY",
        "outputId": "8230d738-86a4-4445-ae2a-9356151ebb95"
      },
      "execution_count": null,
      "outputs": [
        {
          "output_type": "execute_result",
          "data": {
            "text/plain": [
              "'30'"
            ],
            "application/vnd.google.colaboratory.intrinsic+json": {
              "type": "string"
            }
          },
          "metadata": {},
          "execution_count": 89
        }
      ]
    },
    {
      "cell_type": "code",
      "source": [
        "\"A ação \" + list(precos.keys())[0] + \" está com o preço de \" + str(list(precos.values())[0]) + \" neste momento\""
      ],
      "metadata": {
        "colab": {
          "base_uri": "https://localhost:8080/"
        },
        "id": "Dws7U-EqJhuH",
        "outputId": "e8409092-10f4-4fdb-dca4-2d4770f0ec7e"
      },
      "execution_count": null,
      "outputs": [
        {
          "output_type": "execute_result",
          "data": {
            "text/plain": [
              "'A ação PETR4 está com o preço de 30 neste momento'"
            ],
            "application/vnd.google.colaboratory.intrinsic+json": {
              "type": "string"
            }
          },
          "metadata": {},
          "execution_count": 90
        }
      ]
    },
    {
      "cell_type": "markdown",
      "source": [
        "Vamos lembrar do operador len (comprimento)"
      ],
      "metadata": {
        "id": "y-q7YIDVJ89Y"
      }
    },
    {
      "cell_type": "code",
      "source": [
        "len(acoes)"
      ],
      "metadata": {
        "colab": {
          "base_uri": "https://localhost:8080/"
        },
        "id": "RQY2DxnaKipq",
        "outputId": "fe5d0b15-763e-4a29-ed5b-828af8e1a513"
      },
      "execution_count": null,
      "outputs": [
        {
          "output_type": "execute_result",
          "data": {
            "text/plain": [
              "14"
            ]
          },
          "metadata": {},
          "execution_count": 91
        }
      ]
    },
    {
      "cell_type": "code",
      "source": [
        "len(precos)"
      ],
      "metadata": {
        "colab": {
          "base_uri": "https://localhost:8080/"
        },
        "id": "KxEpdl70Kmg_",
        "outputId": "e27a9d55-cd02-4b27-bed2-14d0c687b2aa"
      },
      "execution_count": null,
      "outputs": [
        {
          "output_type": "execute_result",
          "data": {
            "text/plain": [
              "3"
            ]
          },
          "metadata": {},
          "execution_count": 92
        }
      ]
    },
    {
      "cell_type": "markdown",
      "source": [
        "O operador **range** é para obter os elementos contidos dentro de um intervalo"
      ],
      "metadata": {
        "id": "8k-EUNLUKp2R"
      }
    },
    {
      "cell_type": "code",
      "source": [
        "range(0, len(acoes))"
      ],
      "metadata": {
        "colab": {
          "base_uri": "https://localhost:8080/"
        },
        "id": "OrgFbynhK7SB",
        "outputId": "fdcc9124-fc67-48cc-f8a5-9b83078ded7e"
      },
      "execution_count": null,
      "outputs": [
        {
          "output_type": "execute_result",
          "data": {
            "text/plain": [
              "range(0, 14)"
            ]
          },
          "metadata": {},
          "execution_count": 93
        }
      ]
    },
    {
      "cell_type": "code",
      "source": [
        "list(range(0, len(acoes)))"
      ],
      "metadata": {
        "colab": {
          "base_uri": "https://localhost:8080/"
        },
        "id": "fw4eocgKK3PY",
        "outputId": "1c113403-6474-4709-e38c-7fb6562b2889"
      },
      "execution_count": null,
      "outputs": [
        {
          "output_type": "execute_result",
          "data": {
            "text/plain": [
              "[0, 1, 2, 3, 4, 5, 6, 7, 8, 9, 10, 11, 12, 13]"
            ]
          },
          "metadata": {},
          "execution_count": 94
        }
      ]
    },
    {
      "cell_type": "code",
      "source": [
        "list(range(0, len(precos)))"
      ],
      "metadata": {
        "colab": {
          "base_uri": "https://localhost:8080/"
        },
        "id": "F98NJBvSLD6w",
        "outputId": "622e095a-facd-48b6-ceec-24fab3e2b0dc"
      },
      "execution_count": null,
      "outputs": [
        {
          "output_type": "execute_result",
          "data": {
            "text/plain": [
              "[0, 1, 2]"
            ]
          },
          "metadata": {},
          "execution_count": 95
        }
      ]
    },
    {
      "cell_type": "code",
      "source": [
        "for i in range(0, len(acoes)):\n",
        "  print(i)"
      ],
      "metadata": {
        "colab": {
          "base_uri": "https://localhost:8080/"
        },
        "id": "blxsBCwiLUFw",
        "outputId": "4e7a4b8b-6933-449a-ab0e-c13867bdcb9c"
      },
      "execution_count": null,
      "outputs": [
        {
          "output_type": "stream",
          "name": "stdout",
          "text": [
            "0\n",
            "1\n",
            "2\n",
            "3\n",
            "4\n",
            "5\n",
            "6\n",
            "7\n",
            "8\n",
            "9\n",
            "10\n",
            "11\n",
            "12\n",
            "13\n"
          ]
        }
      ]
    },
    {
      "cell_type": "code",
      "source": [
        "for i in range(0, len(precos)):\n",
        "  print(\"A ação \" + list(precos.keys())[i] + \" está com o preço de \" + str(list(precos.values())[i]) + \" neste momento\")\n"
      ],
      "metadata": {
        "colab": {
          "base_uri": "https://localhost:8080/"
        },
        "id": "o-4I9vUALn9Y",
        "outputId": "ede4916d-f979-4143-a458-d0d3a698965d"
      },
      "execution_count": null,
      "outputs": [
        {
          "output_type": "stream",
          "name": "stdout",
          "text": [
            "A ação PETR4 está com o preço de 30 neste momento\n",
            "A ação VALE3 está com o preço de 102 neste momento\n",
            "A ação WEGE3 está com o preço de 34 neste momento\n"
          ]
        }
      ]
    },
    {
      "cell_type": "markdown",
      "source": [
        "### While"
      ],
      "metadata": {
        "id": "wWwI6_hIL4k_"
      }
    },
    {
      "cell_type": "markdown",
      "source": [
        "A estrutura do while (enquanto, em português) se refere a outra repetição (loop) que ocorrerá enquanto a condição for verdadeira. Poderia ser pensada de uma maneira análoga ao uso do 'for' e 'if' integrados."
      ],
      "metadata": {
        "id": "yv0DPsN5MWgn"
      }
    },
    {
      "cell_type": "code",
      "source": [
        "preco_vale = 87.76"
      ],
      "metadata": {
        "id": "3XABpG9YMaT3"
      },
      "execution_count": null,
      "outputs": []
    },
    {
      "cell_type": "markdown",
      "source": [
        "Vamos criar um loop do tipo 'While' que roda eternamente"
      ],
      "metadata": {
        "id": "PTqo_vwUMsCv"
      }
    },
    {
      "cell_type": "code",
      "source": [
        "while preco_vale < 100:\n",
        "  print('O preço de VALE3 está abaixo de R$ 100')"
      ],
      "metadata": {
        "id": "AUiynjY2MvDZ"
      },
      "execution_count": null,
      "outputs": []
    },
    {
      "cell_type": "markdown",
      "source": [
        "Vamos criar uma condição para VALE3 aumentar o preço"
      ],
      "metadata": {
        "id": "e0emyJGLNDNn"
      }
    },
    {
      "cell_type": "code",
      "source": [
        "preco_vale = preco_vale*1.01"
      ],
      "metadata": {
        "id": "ncBIufsQNYmo"
      },
      "execution_count": null,
      "outputs": []
    },
    {
      "cell_type": "markdown",
      "source": [
        "Enquanto o preço for menor que R$ 100, imprima a seguinte frase:\n",
        "\n",
        "\"Ainda não atingiu o preço ideal para venda. Espere!\"\n",
        "\n",
        "Caso a condição seja verdadeira (preco_vale >= R$ 100), imprima esta outra frase:\n",
        "\n",
        "\"Preço alvo foi atingido. Hora de vender!\""
      ],
      "metadata": {
        "id": "KbBb4ASwNcvY"
      }
    },
    {
      "cell_type": "code",
      "source": [
        "preco_vale = 87.76"
      ],
      "metadata": {
        "id": "s8bWGtjXNiiR"
      },
      "execution_count": null,
      "outputs": []
    },
    {
      "cell_type": "code",
      "source": [
        "round(preco_vale, 2)"
      ],
      "metadata": {
        "colab": {
          "base_uri": "https://localhost:8080/"
        },
        "id": "U4Nf2SVeNqMR",
        "outputId": "e055d83a-b403-4989-860b-d06e9dcdca9d"
      },
      "execution_count": null,
      "outputs": [
        {
          "output_type": "execute_result",
          "data": {
            "text/plain": [
              "87.76"
            ]
          },
          "metadata": {},
          "execution_count": 103
        }
      ]
    },
    {
      "cell_type": "code",
      "source": [
        "while preco_vale < 100:\n",
        "  print('Ainda não atingiu o preço ideal para venda. Espere! O preço atual é: ', round(preco_vale, 2))\n",
        "  preco_vale = preco_vale*1.01\n",
        "\n",
        "else:\n",
        "  print(\"Preço alvo foi atingido. Hora de vender!\", round(preco_vale, 2))"
      ],
      "metadata": {
        "colab": {
          "base_uri": "https://localhost:8080/"
        },
        "id": "FiAFMzNENsAC",
        "outputId": "9fbd79ae-1750-4f66-8501-4ffe74b009ca"
      },
      "execution_count": null,
      "outputs": [
        {
          "output_type": "stream",
          "name": "stdout",
          "text": [
            "Ainda não atingiu o preço ideal para venda. Espere! O preço atual é:  87.76\n",
            "Ainda não atingiu o preço ideal para venda. Espere! O preço atual é:  88.64\n",
            "Ainda não atingiu o preço ideal para venda. Espere! O preço atual é:  89.52\n",
            "Ainda não atingiu o preço ideal para venda. Espere! O preço atual é:  90.42\n",
            "Ainda não atingiu o preço ideal para venda. Espere! O preço atual é:  91.32\n",
            "Ainda não atingiu o preço ideal para venda. Espere! O preço atual é:  92.24\n",
            "Ainda não atingiu o preço ideal para venda. Espere! O preço atual é:  93.16\n",
            "Ainda não atingiu o preço ideal para venda. Espere! O preço atual é:  94.09\n",
            "Ainda não atingiu o preço ideal para venda. Espere! O preço atual é:  95.03\n",
            "Ainda não atingiu o preço ideal para venda. Espere! O preço atual é:  95.98\n",
            "Ainda não atingiu o preço ideal para venda. Espere! O preço atual é:  96.94\n",
            "Ainda não atingiu o preço ideal para venda. Espere! O preço atual é:  97.91\n",
            "Ainda não atingiu o preço ideal para venda. Espere! O preço atual é:  98.89\n",
            "Ainda não atingiu o preço ideal para venda. Espere! O preço atual é:  99.88\n",
            "Preço alvo foi atingido. Hora de vender! 100.88\n"
          ]
        }
      ]
    },
    {
      "cell_type": "code",
      "source": [],
      "metadata": {
        "id": "5bPoK6fGOhTg"
      },
      "execution_count": null,
      "outputs": []
    },
    {
      "cell_type": "code",
      "source": [],
      "metadata": {
        "id": "pHEDfJ57VblW"
      },
      "execution_count": null,
      "outputs": []
    }
  ]
}