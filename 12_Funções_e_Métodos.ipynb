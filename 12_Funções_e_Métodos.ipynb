{
  "nbformat": 4,
  "nbformat_minor": 0,
  "metadata": {
    "colab": {
      "provenance": [],
      "include_colab_link": true
    },
    "kernelspec": {
      "name": "python3",
      "display_name": "Python 3"
    },
    "language_info": {
      "name": "python"
    }
  },
  "cells": [
    {
      "cell_type": "markdown",
      "metadata": {
        "id": "view-in-github",
        "colab_type": "text"
      },
      "source": [
        "<a href=\"https://colab.research.google.com/github/Psousace/Curso_TradingDados/blob/main/12_Fun%C3%A7%C3%B5es_e_M%C3%A9todos.ipynb\" target=\"_parent\"><img src=\"https://colab.research.google.com/assets/colab-badge.svg\" alt=\"Open In Colab\"/></a>"
      ]
    },
    {
      "cell_type": "markdown",
      "source": [
        "<center><img src = \"https://github.com/Trading-com-Dados/pmf/blob/main/logotipo-trading-com-dados.svg?raw=true\" width = \"200\">"
      ],
      "metadata": {
        "id": "NoGQ3itYnf9J"
      }
    },
    {
      "cell_type": "markdown",
      "source": [
        "# **Fundamentos da Programação em Python**\n"
      ],
      "metadata": {
        "id": "yYOEfGkBI8t6"
      }
    },
    {
      "cell_type": "markdown",
      "source": [
        "## Funções e métodos"
      ],
      "metadata": {
        "id": "u_OKThI9gweW"
      }
    },
    {
      "cell_type": "markdown",
      "source": [
        "### Funções"
      ],
      "metadata": {
        "id": "QjxDwEwWiRIH"
      }
    },
    {
      "cell_type": "markdown",
      "source": [
        "Uma função é um comando capaz de realizar uma tarefa, de acordo com critérios que determinamos.\n",
        "\n",
        "A função só é executada de fato quando é chamada, e executa atividades que foram especificadas pelo usuário."
      ],
      "metadata": {
        "id": "CA3KP8ztiSZ1"
      }
    },
    {
      "cell_type": "code",
      "source": [
        "print(\"O papel mais negociado da bolsa é PETR4\")"
      ],
      "metadata": {
        "colab": {
          "base_uri": "https://localhost:8080/"
        },
        "id": "zTLSd6XjiWXG",
        "outputId": "020fe42a-fb28-4802-9567-fa6d9bc93722"
      },
      "execution_count": null,
      "outputs": [
        {
          "output_type": "stream",
          "name": "stdout",
          "text": [
            "O papel mais negociado da bolsa é PETR4\n"
          ]
        }
      ]
    },
    {
      "cell_type": "markdown",
      "source": [
        "Vamos criar uma função que recebe um papel da bolsa e retorna uma mensagem."
      ],
      "metadata": {
        "id": "CfFB-E2oicG1"
      }
    },
    {
      "cell_type": "code",
      "source": [
        "def mensagem_investidor():\n",
        "  print(\"O papel mais negociado da bolsa é PETR4\")"
      ],
      "metadata": {
        "id": "DYxuR6-giohV"
      },
      "execution_count": null,
      "outputs": []
    },
    {
      "cell_type": "code",
      "source": [
        "mensagem_investidor()"
      ],
      "metadata": {
        "colab": {
          "base_uri": "https://localhost:8080/"
        },
        "id": "gIXpRXlpi-v_",
        "outputId": "d736ea57-0a1f-4e0a-9598-b62aca426e9c"
      },
      "execution_count": null,
      "outputs": [
        {
          "output_type": "stream",
          "name": "stdout",
          "text": [
            "O papel mais negociado da bolsa é PETR4\n"
          ]
        }
      ]
    },
    {
      "cell_type": "markdown",
      "source": [
        "A função recebe argumentos"
      ],
      "metadata": {
        "id": "Rhvjv36ujCU9"
      }
    },
    {
      "cell_type": "code",
      "source": [
        "def mensagem_investidor(acao):\n",
        "  print(\"O papel mais negociado da bolsa é \", acao)"
      ],
      "metadata": {
        "id": "AyV8CGg4jJz_"
      },
      "execution_count": null,
      "outputs": []
    },
    {
      "cell_type": "code",
      "source": [
        "mensagem_investidor()"
      ],
      "metadata": {
        "colab": {
          "base_uri": "https://localhost:8080/",
          "height": 166
        },
        "id": "HIqXWjWwjcY7",
        "outputId": "4c2818c2-9305-4ff0-b55b-2f8e990309f9"
      },
      "execution_count": null,
      "outputs": [
        {
          "output_type": "error",
          "ename": "TypeError",
          "evalue": "ignored",
          "traceback": [
            "\u001b[0;31m---------------------------------------------------------------------------\u001b[0m",
            "\u001b[0;31mTypeError\u001b[0m                                 Traceback (most recent call last)",
            "\u001b[0;32m<ipython-input-8-7e842f2dcd41>\u001b[0m in \u001b[0;36m<module>\u001b[0;34m\u001b[0m\n\u001b[0;32m----> 1\u001b[0;31m \u001b[0mmensagem_investidor\u001b[0m\u001b[0;34m(\u001b[0m\u001b[0;34m)\u001b[0m\u001b[0;34m\u001b[0m\u001b[0;34m\u001b[0m\u001b[0m\n\u001b[0m",
            "\u001b[0;31mTypeError\u001b[0m: mensagem_investidor() missing 1 required positional argument: 'acao'"
          ]
        }
      ]
    },
    {
      "cell_type": "code",
      "source": [
        "mensagem_investidor('MGLU3')"
      ],
      "metadata": {
        "colab": {
          "base_uri": "https://localhost:8080/"
        },
        "id": "e50plp4CjfvG",
        "outputId": "f6dcb137-efb6-47c4-f9f1-6d18e6164f5e"
      },
      "execution_count": null,
      "outputs": [
        {
          "output_type": "stream",
          "name": "stdout",
          "text": [
            "O papel mais negociado da bolsa é  MGLU3\n"
          ]
        }
      ]
    },
    {
      "cell_type": "code",
      "source": [
        "mensagem_investidor('LREN3')"
      ],
      "metadata": {
        "colab": {
          "base_uri": "https://localhost:8080/"
        },
        "id": "NbKb6OfcjvK9",
        "outputId": "854f5534-9049-4ce8-c525-f73a5ea07d40"
      },
      "execution_count": null,
      "outputs": [
        {
          "output_type": "stream",
          "name": "stdout",
          "text": [
            "O papel mais negociado da bolsa é  LREN3\n"
          ]
        }
      ]
    },
    {
      "cell_type": "markdown",
      "source": [
        "<center><img src = \"https://www.learnbyexample.org/wp-content/uploads/python/Python-Function-Syntax.png\" width = \"500\">"
      ],
      "metadata": {
        "id": "hFF2K5Nljx_3"
      }
    },
    {
      "cell_type": "markdown",
      "source": [
        "Exercício\n",
        "\n",
        "Vamos criar agora uma nova função que vai retornar a soma de dois números, sendo estes determinados pelo usuário."
      ],
      "metadata": {
        "id": "sm-yISymj0m4"
      }
    },
    {
      "cell_type": "code",
      "source": [
        "def soma_numeros(num1, num2):\n",
        "  soma = num1 + num2\n",
        "  return soma"
      ],
      "metadata": {
        "id": "suMzFIYJkAyo"
      },
      "execution_count": null,
      "outputs": []
    },
    {
      "cell_type": "code",
      "source": [
        "soma_numeros(1,1)"
      ],
      "metadata": {
        "colab": {
          "base_uri": "https://localhost:8080/"
        },
        "id": "GLbVPvgRkLCe",
        "outputId": "9a7a239b-753b-4f05-b7d7-7942d34db603"
      },
      "execution_count": null,
      "outputs": [
        {
          "output_type": "execute_result",
          "data": {
            "text/plain": [
              "2"
            ]
          },
          "metadata": {},
          "execution_count": 18
        }
      ]
    },
    {
      "cell_type": "code",
      "source": [
        "soma_numeros(5,5)"
      ],
      "metadata": {
        "colab": {
          "base_uri": "https://localhost:8080/"
        },
        "id": "X7dUtyxDkNFG",
        "outputId": "77983d32-5d2d-4a72-cc8a-364a625cd4be"
      },
      "execution_count": null,
      "outputs": [
        {
          "output_type": "execute_result",
          "data": {
            "text/plain": [
              "10"
            ]
          },
          "metadata": {},
          "execution_count": 19
        }
      ]
    },
    {
      "cell_type": "markdown",
      "source": [
        "Exercício\n",
        "\n",
        "Vamos criar agora uma nova função chamada \"preco\" que basicamente retorna a cotação de um papel, de acordo com o que for especificado pelo usuário."
      ],
      "metadata": {
        "id": "BQOpRG3bkcmm"
      }
    },
    {
      "cell_type": "markdown",
      "source": [
        "print('PETR4 está R$ 24.50 neste momento')\n",
        "\n",
        "print('MGLU3 está R$ 2.74 neste momento')"
      ],
      "metadata": {
        "id": "iQEmBPy3kfHc"
      }
    },
    {
      "cell_type": "code",
      "source": [
        "def preco(acao):\n",
        "  if acao == 'PETR4':\n",
        "    print('PETR4 está R$ 24.50 neste momento')\n",
        "  elif acao == 'MGLU3':\n",
        "    print('MGLU3 está R$ 2.74 neste momento')\n",
        "  elif acao == 'WEGE3':\n",
        "    print('WEGE3 está R$ 38.51 neste momento')\n",
        "  elif acao == 'PRIO3':\n",
        "    print('PRIO3 está R$ 37.21 neste momento')\n",
        "  elif acao == 'VALE3':\n",
        "    print('VALE3 está R$ 88.88 neste momento')\n",
        "  else:\n",
        "    print('Não possuímos este papel na nossa base de dados')"
      ],
      "metadata": {
        "id": "RTRFkNUlkoOl"
      },
      "execution_count": null,
      "outputs": []
    },
    {
      "cell_type": "code",
      "source": [
        "preco('PRIO3')"
      ],
      "metadata": {
        "colab": {
          "base_uri": "https://localhost:8080/"
        },
        "id": "Ny1MZIXrlRTP",
        "outputId": "4cfca9b9-84c7-4596-890f-ce74b7cf8940"
      },
      "execution_count": null,
      "outputs": [
        {
          "output_type": "stream",
          "name": "stdout",
          "text": [
            "PRIO3 está R$ 37.21 neste momento\n"
          ]
        }
      ]
    },
    {
      "cell_type": "code",
      "source": [
        "preco('ITUB4')"
      ],
      "metadata": {
        "colab": {
          "base_uri": "https://localhost:8080/"
        },
        "id": "mIk6Az5IlUl-",
        "outputId": "353a985f-880f-41c6-8a46-22ff87e59675"
      },
      "execution_count": null,
      "outputs": [
        {
          "output_type": "stream",
          "name": "stdout",
          "text": [
            "Não possuímos este papel na nossa base de dados\n"
          ]
        }
      ]
    },
    {
      "cell_type": "markdown",
      "source": [
        "**Docstring**\n",
        "\n",
        "\"Docstring\" é a documentação da função, ou seja, a mensagem que aparece quando o usuário consulta a ajuda da função."
      ],
      "metadata": {
        "id": "-e9LF4uBlXne"
      }
    },
    {
      "cell_type": "code",
      "source": [
        "def preco(acao):\n",
        "\n",
        "  ''' ESSA FUNÇÃO DEVE SER UTILIZADA PARA RETORNAR A COTAÇÃO EM TEMPO REAL DE ALGUNS PAPÉIS DA BOLSA BRASILEIRA'''\n",
        "\n",
        "  if acao == 'PETR4':\n",
        "    print('PETR4 está R$ 24.50 neste momento')\n",
        "  elif acao == 'MGLU3':\n",
        "    print('MGLU3 está R$ 2.74 neste momento')\n",
        "  elif acao == 'WEGE3':\n",
        "    print('WEGE3 está R$ 38.51 neste momento')\n",
        "  elif acao == 'PRIO3':\n",
        "    print('PRIO3 está R$ 37.21 neste momento')\n",
        "  elif acao == 'VALE3':\n",
        "    print('VALE3 está R$ 88.88 neste momento')\n",
        "  else:\n",
        "    print('Não possuímos este papel na nossa base de dados')"
      ],
      "metadata": {
        "id": "vjKL0ZC0li-R"
      },
      "execution_count": null,
      "outputs": []
    },
    {
      "cell_type": "code",
      "source": [
        "preco('ABEV3')"
      ],
      "metadata": {
        "colab": {
          "base_uri": "https://localhost:8080/"
        },
        "id": "AEu6OAn8l7Sa",
        "outputId": "931137d0-5ef5-4dab-db5a-0b54edb141a2"
      },
      "execution_count": null,
      "outputs": [
        {
          "output_type": "stream",
          "name": "stdout",
          "text": [
            "Não possuímos este papel na nossa base de dados\n"
          ]
        }
      ]
    },
    {
      "cell_type": "markdown",
      "source": [
        "### Métodos"
      ],
      "metadata": {
        "id": "iuDZXuE8mA0W"
      }
    },
    {
      "cell_type": "markdown",
      "source": [
        "Métodos são funções aplicáveis apenas a determinados tipos de objetos. Todos os métodos são funções, mas nem todas as funções são métodos. Os métodos são executados ao fim dos objetos e separados com um ponto."
      ],
      "metadata": {
        "id": "FHPZSD88mGTp"
      }
    },
    {
      "cell_type": "markdown",
      "source": [
        "Exemplos com listas"
      ],
      "metadata": {
        "id": "HyQjnXGhmH-W"
      }
    },
    {
      "cell_type": "code",
      "source": [
        "numeros = [1,2,3,4,5,7,9,11,15]"
      ],
      "metadata": {
        "id": "99oV64SumNCm"
      },
      "execution_count": null,
      "outputs": []
    },
    {
      "cell_type": "markdown",
      "source": [
        "O operador 'append' é, na verdade, um método"
      ],
      "metadata": {
        "id": "7z--cx_3mP_2"
      }
    },
    {
      "cell_type": "code",
      "source": [
        "numeros.append(20)"
      ],
      "metadata": {
        "id": "xHK3BvhPmRpB"
      },
      "execution_count": null,
      "outputs": []
    },
    {
      "cell_type": "code",
      "source": [
        "numeros"
      ],
      "metadata": {
        "colab": {
          "base_uri": "https://localhost:8080/"
        },
        "id": "3q3WAgeomXGe",
        "outputId": "a1a624c3-01ba-4192-997d-ca2e454c7363"
      },
      "execution_count": null,
      "outputs": [
        {
          "output_type": "execute_result",
          "data": {
            "text/plain": [
              "[1, 2, 3, 4, 5, 7, 9, 11, 15, 20]"
            ]
          },
          "metadata": {},
          "execution_count": 27
        }
      ]
    },
    {
      "cell_type": "markdown",
      "source": [
        "Alguns outros métodos para listas"
      ],
      "metadata": {
        "id": "1MqkEUZHmX3n"
      }
    },
    {
      "cell_type": "code",
      "source": [
        "numeros.pop()"
      ],
      "metadata": {
        "colab": {
          "base_uri": "https://localhost:8080/"
        },
        "id": "ajklgRFtmglI",
        "outputId": "d23a6569-b818-42c7-8819-fa76dbf24fce"
      },
      "execution_count": null,
      "outputs": [
        {
          "output_type": "execute_result",
          "data": {
            "text/plain": [
              "20"
            ]
          },
          "metadata": {},
          "execution_count": 28
        }
      ]
    },
    {
      "cell_type": "code",
      "source": [
        "numeros"
      ],
      "metadata": {
        "colab": {
          "base_uri": "https://localhost:8080/"
        },
        "id": "7yI24a2pmhvA",
        "outputId": "f0a92223-efd9-43f6-b8c3-f0bbc58ec592"
      },
      "execution_count": null,
      "outputs": [
        {
          "output_type": "execute_result",
          "data": {
            "text/plain": [
              "[1, 2, 3, 4, 5, 7, 9, 11, 15]"
            ]
          },
          "metadata": {},
          "execution_count": 29
        }
      ]
    },
    {
      "cell_type": "code",
      "source": [
        "numeros.reverse()"
      ],
      "metadata": {
        "id": "3WWX4rzqmjY2"
      },
      "execution_count": null,
      "outputs": []
    },
    {
      "cell_type": "code",
      "source": [
        "numeros"
      ],
      "metadata": {
        "colab": {
          "base_uri": "https://localhost:8080/"
        },
        "id": "Az24bQ9BmnQl",
        "outputId": "257a4949-28a4-437a-e8a9-2a4629db1c3f"
      },
      "execution_count": null,
      "outputs": [
        {
          "output_type": "execute_result",
          "data": {
            "text/plain": [
              "[15, 11, 9, 7, 5, 4, 3, 2, 1]"
            ]
          },
          "metadata": {},
          "execution_count": 31
        }
      ]
    },
    {
      "cell_type": "markdown",
      "source": [
        "Alguns métodos aplicáveis a strings"
      ],
      "metadata": {
        "id": "_n9sSU2umoWG"
      }
    },
    {
      "cell_type": "code",
      "source": [
        "texto_investidor = \"PETR4 está num preço interessante\""
      ],
      "metadata": {
        "id": "CxX5Llfbmrk4"
      },
      "execution_count": null,
      "outputs": []
    },
    {
      "cell_type": "code",
      "source": [
        "texto_investidor.split()"
      ],
      "metadata": {
        "colab": {
          "base_uri": "https://localhost:8080/"
        },
        "id": "nE-7wwJwmwOH",
        "outputId": "bbb8632f-4fc4-4d31-9b61-77643f5f11db"
      },
      "execution_count": null,
      "outputs": [
        {
          "output_type": "execute_result",
          "data": {
            "text/plain": [
              "['PETR4', 'está', 'num', 'preço', 'interessante']"
            ]
          },
          "metadata": {},
          "execution_count": 33
        }
      ]
    },
    {
      "cell_type": "code",
      "source": [
        "palavras = texto_investidor.split()"
      ],
      "metadata": {
        "id": "StkCMlUlm2c2"
      },
      "execution_count": null,
      "outputs": []
    },
    {
      "cell_type": "code",
      "source": [
        "palavras"
      ],
      "metadata": {
        "colab": {
          "base_uri": "https://localhost:8080/"
        },
        "id": "QFm44qHxm6rO",
        "outputId": "a2eaa0a6-0f95-4853-b5ee-6a1e9ea8e9c8"
      },
      "execution_count": null,
      "outputs": [
        {
          "output_type": "execute_result",
          "data": {
            "text/plain": [
              "['PETR4', 'está', 'num', 'preço', 'interessante']"
            ]
          },
          "metadata": {},
          "execution_count": 35
        }
      ]
    },
    {
      "cell_type": "code",
      "source": [
        "palavras[0]"
      ],
      "metadata": {
        "colab": {
          "base_uri": "https://localhost:8080/",
          "height": 35
        },
        "id": "qUud0M_nm7VW",
        "outputId": "a92f0b77-4721-4374-a543-59a061799c3c"
      },
      "execution_count": null,
      "outputs": [
        {
          "output_type": "execute_result",
          "data": {
            "text/plain": [
              "'PETR4'"
            ],
            "application/vnd.google.colaboratory.intrinsic+json": {
              "type": "string"
            }
          },
          "metadata": {},
          "execution_count": 36
        }
      ]
    },
    {
      "cell_type": "code",
      "source": [
        "palavras[1]"
      ],
      "metadata": {
        "colab": {
          "base_uri": "https://localhost:8080/",
          "height": 35
        },
        "id": "9P5sJ61cnAqX",
        "outputId": "879dc104-e9c6-4916-c057-940677a1f015"
      },
      "execution_count": null,
      "outputs": [
        {
          "output_type": "execute_result",
          "data": {
            "text/plain": [
              "'está'"
            ],
            "application/vnd.google.colaboratory.intrinsic+json": {
              "type": "string"
            }
          },
          "metadata": {},
          "execution_count": 37
        }
      ]
    },
    {
      "cell_type": "markdown",
      "source": [
        "Métodos para dicionários"
      ],
      "metadata": {
        "id": "BrBfVoG6nBkv"
      }
    },
    {
      "cell_type": "code",
      "source": [
        "dicionario_precos = {'PRIO3': 20, 'BBDC4': 16, 'BRKM5': 54}"
      ],
      "metadata": {
        "id": "E1FPTY-wnE34"
      },
      "execution_count": null,
      "outputs": []
    },
    {
      "cell_type": "code",
      "source": [
        "dicionario_precos.keys()"
      ],
      "metadata": {
        "colab": {
          "base_uri": "https://localhost:8080/"
        },
        "id": "Y0NujgH4nKB_",
        "outputId": "84cc11a5-be00-4472-debd-d16089bbf06c"
      },
      "execution_count": null,
      "outputs": [
        {
          "output_type": "execute_result",
          "data": {
            "text/plain": [
              "dict_keys(['PRIO3', 'BBDC4', 'BRKM5'])"
            ]
          },
          "metadata": {},
          "execution_count": 39
        }
      ]
    },
    {
      "cell_type": "code",
      "source": [
        "dicionario_precos.values()"
      ],
      "metadata": {
        "colab": {
          "base_uri": "https://localhost:8080/"
        },
        "id": "VPxMGxU1nL4-",
        "outputId": "ce99b7ec-bbd2-4884-aabe-0878eb52aaf3"
      },
      "execution_count": null,
      "outputs": [
        {
          "output_type": "execute_result",
          "data": {
            "text/plain": [
              "dict_values([20, 16, 54])"
            ]
          },
          "metadata": {},
          "execution_count": 40
        }
      ]
    },
    {
      "cell_type": "code",
      "source": [],
      "metadata": {
        "id": "Ss7IbVt6nObv"
      },
      "execution_count": null,
      "outputs": []
    }
  ]
}