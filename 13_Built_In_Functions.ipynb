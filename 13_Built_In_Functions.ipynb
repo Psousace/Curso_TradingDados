{
  "nbformat": 4,
  "nbformat_minor": 0,
  "metadata": {
    "colab": {
      "provenance": [],
      "include_colab_link": true
    },
    "kernelspec": {
      "name": "python3",
      "display_name": "Python 3"
    },
    "language_info": {
      "name": "python"
    }
  },
  "cells": [
    {
      "cell_type": "markdown",
      "metadata": {
        "id": "view-in-github",
        "colab_type": "text"
      },
      "source": [
        "<a href=\"https://colab.research.google.com/github/Psousace/Curso_TradingDados/blob/main/13_Built_In_Functions.ipynb\" target=\"_parent\"><img src=\"https://colab.research.google.com/assets/colab-badge.svg\" alt=\"Open In Colab\"/></a>"
      ]
    },
    {
      "cell_type": "markdown",
      "source": [
        "<center><img src = \"https://github.com/Trading-com-Dados/pmf/blob/main/logotipo-trading-com-dados.svg?raw=true\" width = \"200\">"
      ],
      "metadata": {
        "id": "NoGQ3itYnf9J"
      }
    },
    {
      "cell_type": "markdown",
      "source": [
        "# **Fundamentos da Programação em Python**\n"
      ],
      "metadata": {
        "id": "yYOEfGkBI8t6"
      }
    },
    {
      "cell_type": "markdown",
      "source": [
        "## Funções embutidas ou 'built in functions'\n"
      ],
      "metadata": {
        "id": "EFgYYgxPsQIK"
      }
    },
    {
      "cell_type": "markdown",
      "source": [
        "Documentação completa: https://docs.python.org/3/library/functions.html"
      ],
      "metadata": {
        "id": "gcDn9VghsSnb"
      }
    },
    {
      "cell_type": "markdown",
      "source": [
        "### range"
      ],
      "metadata": {
        "id": "_0X6m4hbsb7C"
      }
    },
    {
      "cell_type": "markdown",
      "source": [
        "Indica um intervalo entre dois números. Segue o padrão da indexação (primeiro argumento inclusivo e segundo argumento não inclusivo)"
      ],
      "metadata": {
        "id": "_EzKMK2jttC0"
      }
    },
    {
      "cell_type": "code",
      "source": [
        "range(0,3)"
      ],
      "metadata": {
        "colab": {
          "base_uri": "https://localhost:8080/"
        },
        "id": "BCQQi5Q4uq6q",
        "outputId": "9ef9978c-ead1-44ec-b6c1-015a3629e47a"
      },
      "execution_count": null,
      "outputs": [
        {
          "output_type": "execute_result",
          "data": {
            "text/plain": [
              "range(0, 3)"
            ]
          },
          "metadata": {},
          "execution_count": 2
        }
      ]
    },
    {
      "cell_type": "code",
      "source": [
        "list(range(0, 3))"
      ],
      "metadata": {
        "colab": {
          "base_uri": "https://localhost:8080/"
        },
        "id": "Nlw0vC4kuvOy",
        "outputId": "50cad61c-6b54-40aa-d6db-6bc7692099da"
      },
      "execution_count": null,
      "outputs": [
        {
          "output_type": "execute_result",
          "data": {
            "text/plain": [
              "[0, 1, 2]"
            ]
          },
          "metadata": {},
          "execution_count": 3
        }
      ]
    },
    {
      "cell_type": "code",
      "source": [
        "range(0,15)"
      ],
      "metadata": {
        "colab": {
          "base_uri": "https://localhost:8080/"
        },
        "id": "B57FR-QUuzyS",
        "outputId": "53d3c159-75b2-4f2d-fcc4-96a420eb25c2"
      },
      "execution_count": null,
      "outputs": [
        {
          "output_type": "execute_result",
          "data": {
            "text/plain": [
              "range(0, 15)"
            ]
          },
          "metadata": {},
          "execution_count": 4
        }
      ]
    },
    {
      "cell_type": "code",
      "source": [
        "list(range(0,15))"
      ],
      "metadata": {
        "colab": {
          "base_uri": "https://localhost:8080/"
        },
        "id": "LD07jxSfvA50",
        "outputId": "7b7a109b-7b16-4e34-9324-72fd3f531197"
      },
      "execution_count": null,
      "outputs": [
        {
          "output_type": "execute_result",
          "data": {
            "text/plain": [
              "[0, 1, 2, 3, 4, 5, 6, 7, 8, 9, 10, 11, 12, 13, 14]"
            ]
          },
          "metadata": {},
          "execution_count": 5
        }
      ]
    },
    {
      "cell_type": "code",
      "source": [
        "for i in range(0,15):\n",
        "  print(i)"
      ],
      "metadata": {
        "colab": {
          "base_uri": "https://localhost:8080/"
        },
        "id": "m33YrIJmvGpL",
        "outputId": "06b3c694-952c-448f-b02d-b3a72fab889c"
      },
      "execution_count": null,
      "outputs": [
        {
          "output_type": "stream",
          "name": "stdout",
          "text": [
            "0\n",
            "1\n",
            "2\n",
            "3\n",
            "4\n",
            "5\n",
            "6\n",
            "7\n",
            "8\n",
            "9\n",
            "10\n",
            "11\n",
            "12\n",
            "13\n",
            "14\n"
          ]
        }
      ]
    },
    {
      "cell_type": "code",
      "source": [
        "papeis = [ 'BRKM5', 'BRFS3', 'BPAC11', 'ITUB4', 'LWSA3', 'MGLU3', 'PETR4', 'VALE3']"
      ],
      "metadata": {
        "id": "hhHSl-GevTgb"
      },
      "execution_count": null,
      "outputs": []
    },
    {
      "cell_type": "code",
      "source": [
        "papeis[0]"
      ],
      "metadata": {
        "colab": {
          "base_uri": "https://localhost:8080/",
          "height": 35
        },
        "id": "o43His8vvbvb",
        "outputId": "948a6c8f-b39c-4ef3-c6a9-5e77418bfe88"
      },
      "execution_count": null,
      "outputs": [
        {
          "output_type": "execute_result",
          "data": {
            "text/plain": [
              "'BRKM5'"
            ],
            "application/vnd.google.colaboratory.intrinsic+json": {
              "type": "string"
            }
          },
          "metadata": {},
          "execution_count": 8
        }
      ]
    },
    {
      "cell_type": "code",
      "source": [
        "papeis[1]"
      ],
      "metadata": {
        "colab": {
          "base_uri": "https://localhost:8080/",
          "height": 35
        },
        "id": "OLwA3WiMvcnL",
        "outputId": "47a94d77-a4d4-41de-dd90-264995c742eb"
      },
      "execution_count": null,
      "outputs": [
        {
          "output_type": "execute_result",
          "data": {
            "text/plain": [
              "'BRFS3'"
            ],
            "application/vnd.google.colaboratory.intrinsic+json": {
              "type": "string"
            }
          },
          "metadata": {},
          "execution_count": 9
        }
      ]
    },
    {
      "cell_type": "code",
      "source": [
        "len(papeis)"
      ],
      "metadata": {
        "colab": {
          "base_uri": "https://localhost:8080/"
        },
        "id": "8K029af4wZgC",
        "outputId": "efde2b2e-f405-4295-9653-9aa27bd8eb04"
      },
      "execution_count": null,
      "outputs": [
        {
          "output_type": "execute_result",
          "data": {
            "text/plain": [
              "8"
            ]
          },
          "metadata": {},
          "execution_count": 18
        }
      ]
    },
    {
      "cell_type": "code",
      "source": [
        "range(0, len(papeis))"
      ],
      "metadata": {
        "colab": {
          "base_uri": "https://localhost:8080/"
        },
        "id": "Cdw-X6P1wePC",
        "outputId": "46070959-63f6-40a8-89ab-b866994b804b"
      },
      "execution_count": null,
      "outputs": [
        {
          "output_type": "execute_result",
          "data": {
            "text/plain": [
              "range(0, 8)"
            ]
          },
          "metadata": {},
          "execution_count": 19
        }
      ]
    },
    {
      "cell_type": "code",
      "source": [
        "list(range(0, len(papeis)))"
      ],
      "metadata": {
        "colab": {
          "base_uri": "https://localhost:8080/"
        },
        "id": "VpVWbR9UwitU",
        "outputId": "1bb7a4b9-9944-4671-aa34-c2a22cfb9b45"
      },
      "execution_count": null,
      "outputs": [
        {
          "output_type": "execute_result",
          "data": {
            "text/plain": [
              "[0, 1, 2, 3, 4, 5, 6, 7]"
            ]
          },
          "metadata": {},
          "execution_count": 20
        }
      ]
    },
    {
      "cell_type": "code",
      "source": [
        "for i in range(0, len(papeis)):\n",
        "  print(papeis[i])"
      ],
      "metadata": {
        "colab": {
          "base_uri": "https://localhost:8080/"
        },
        "id": "f1JcQBXGvdir",
        "outputId": "eeb28aa6-aea8-4f3c-ee7d-41a935430107"
      },
      "execution_count": null,
      "outputs": [
        {
          "output_type": "stream",
          "name": "stdout",
          "text": [
            "BRKM5\n",
            "BRFS3\n",
            "BPAC11\n",
            "ITUB4\n",
            "LWSA3\n",
            "MGLU3\n",
            "PETR4\n",
            "VALE3\n"
          ]
        }
      ]
    },
    {
      "cell_type": "markdown",
      "source": [
        "### zip"
      ],
      "metadata": {
        "id": "eUN0U1rzv0iH"
      }
    },
    {
      "cell_type": "markdown",
      "source": [
        "A função zip consegue executar interações entre listas. O operador in (dentro/pertencente em português) permite a leitura sequencial de objetos zip (assim como de listas), fundamental nas estruturas 'for'"
      ],
      "metadata": {
        "id": "buJ4NL5RyBs8"
      }
    },
    {
      "cell_type": "code",
      "source": [
        "acoes = ['PETR4', 'WEGE3', 'MGLU3', 'JHSF3', 'GOAU4']\n",
        "setores = ['Petróleo', 'Motores', 'Varejo', 'Construção', 'Metalurgia']"
      ],
      "metadata": {
        "id": "2tgIcHBWyFih"
      },
      "execution_count": null,
      "outputs": []
    },
    {
      "cell_type": "markdown",
      "source": [
        "Queremos criar uma relação entre essas duas listas"
      ],
      "metadata": {
        "id": "GQb_-R-GyZ7l"
      }
    },
    {
      "cell_type": "code",
      "source": [
        "zip(acoes, setores)"
      ],
      "metadata": {
        "colab": {
          "base_uri": "https://localhost:8080/"
        },
        "id": "LMJQLGkJyfH8",
        "outputId": "a93c205c-03b1-43ee-c2a9-8facef05ed26"
      },
      "execution_count": null,
      "outputs": [
        {
          "output_type": "execute_result",
          "data": {
            "text/plain": [
              "<zip at 0x7efe2dd2b080>"
            ]
          },
          "metadata": {},
          "execution_count": 23
        }
      ]
    },
    {
      "cell_type": "code",
      "source": [
        "list(zip(acoes, setores))"
      ],
      "metadata": {
        "colab": {
          "base_uri": "https://localhost:8080/"
        },
        "id": "2xIbH1avyhNT",
        "outputId": "47b83133-74d0-4f59-ac2e-02f1bd71b3c4"
      },
      "execution_count": null,
      "outputs": [
        {
          "output_type": "execute_result",
          "data": {
            "text/plain": [
              "[('PETR4', 'Petróleo'),\n",
              " ('WEGE3', 'Motores'),\n",
              " ('MGLU3', 'Varejo'),\n",
              " ('JHSF3', 'Construção'),\n",
              " ('GOAU4', 'Metalurgia')]"
            ]
          },
          "metadata": {},
          "execution_count": 24
        }
      ]
    },
    {
      "cell_type": "code",
      "source": [
        "list(zip(acoes, setores))[0]"
      ],
      "metadata": {
        "colab": {
          "base_uri": "https://localhost:8080/"
        },
        "id": "iZly--0yyoDz",
        "outputId": "06dfb408-109f-40e2-c93b-dabc87ecc948"
      },
      "execution_count": null,
      "outputs": [
        {
          "output_type": "execute_result",
          "data": {
            "text/plain": [
              "('PETR4', 'Petróleo')"
            ]
          },
          "metadata": {},
          "execution_count": 25
        }
      ]
    },
    {
      "cell_type": "code",
      "source": [
        "list(zip(acoes, setores))[1]"
      ],
      "metadata": {
        "colab": {
          "base_uri": "https://localhost:8080/"
        },
        "id": "3OMw_EEuyvJk",
        "outputId": "78294123-d2ef-4a0f-d61f-7675e93aa36d"
      },
      "execution_count": null,
      "outputs": [
        {
          "output_type": "execute_result",
          "data": {
            "text/plain": [
              "('WEGE3', 'Motores')"
            ]
          },
          "metadata": {},
          "execution_count": 26
        }
      ]
    },
    {
      "cell_type": "code",
      "source": [
        "empresas_setores = list(zip(acoes, setores))"
      ],
      "metadata": {
        "id": "LrppM7o-ywCk"
      },
      "execution_count": null,
      "outputs": []
    },
    {
      "cell_type": "code",
      "source": [
        "empresas_setores"
      ],
      "metadata": {
        "colab": {
          "base_uri": "https://localhost:8080/"
        },
        "id": "Oh7zafyMzBsl",
        "outputId": "7535a526-05ac-4e32-b050-ed186afb4a91"
      },
      "execution_count": null,
      "outputs": [
        {
          "output_type": "execute_result",
          "data": {
            "text/plain": [
              "[('PETR4', 'Petróleo'),\n",
              " ('WEGE3', 'Motores'),\n",
              " ('MGLU3', 'Varejo'),\n",
              " ('JHSF3', 'Construção'),\n",
              " ('GOAU4', 'Metalurgia')]"
            ]
          },
          "metadata": {},
          "execution_count": 28
        }
      ]
    },
    {
      "cell_type": "markdown",
      "source": [
        "Exercício\n",
        "\n",
        "Crie uma frase que liga o papel ao seu setor. A frase deve ter o seguinte formato:\n",
        "\n",
        "\"O papel XXXX pertence ao setor YYYY\""
      ],
      "metadata": {
        "id": "es7HBYTGy1hL"
      }
    },
    {
      "cell_type": "code",
      "source": [
        "for empresa, setor in empresas_setores:\n",
        "  print(\"O papel\", empresa, \"pertence ao setor\", setor)"
      ],
      "metadata": {
        "colab": {
          "base_uri": "https://localhost:8080/"
        },
        "id": "verpqBUry3Sf",
        "outputId": "38469cd3-2f99-4894-b759-6f924dec1f66"
      },
      "execution_count": null,
      "outputs": [
        {
          "output_type": "stream",
          "name": "stdout",
          "text": [
            "O papel PETR4 pertence ao setor Petróleo\n",
            "O papel WEGE3 pertence ao setor Motores\n",
            "O papel MGLU3 pertence ao setor Varejo\n",
            "O papel JHSF3 pertence ao setor Construção\n",
            "O papel GOAU4 pertence ao setor Metalurgia\n"
          ]
        }
      ]
    },
    {
      "cell_type": "markdown",
      "source": [
        "Podemos refazer o loop acima utilizando o operador 'f'"
      ],
      "metadata": {
        "id": "BnV-1HG9zOkD"
      }
    },
    {
      "cell_type": "code",
      "source": [
        "for empresa, setor in empresas_setores:\n",
        "  print(f\"O papel {empresa} pertence ao setor {setor}\")"
      ],
      "metadata": {
        "colab": {
          "base_uri": "https://localhost:8080/"
        },
        "id": "Y2C6-uzjzXcg",
        "outputId": "8281eefe-e720-4440-976e-1575e16aed1c"
      },
      "execution_count": null,
      "outputs": [
        {
          "output_type": "stream",
          "name": "stdout",
          "text": [
            "O papel PETR4 pertence ao setor Petróleo\n",
            "O papel WEGE3 pertence ao setor Motores\n",
            "O papel MGLU3 pertence ao setor Varejo\n",
            "O papel JHSF3 pertence ao setor Construção\n",
            "O papel GOAU4 pertence ao setor Metalurgia\n"
          ]
        }
      ]
    },
    {
      "cell_type": "markdown",
      "source": [
        "### min e max"
      ],
      "metadata": {
        "id": "-fw6PB2KzolU"
      }
    },
    {
      "cell_type": "code",
      "source": [
        "lista_aleatorios = [5, 1, 10, 9, 4, 0, 8, 2, 7, 6, 3]"
      ],
      "metadata": {
        "id": "cpYHmVNHuzFL"
      },
      "execution_count": null,
      "outputs": []
    },
    {
      "cell_type": "code",
      "source": [
        "max(lista_aleatorios)"
      ],
      "metadata": {
        "colab": {
          "base_uri": "https://localhost:8080/"
        },
        "id": "A3TsRifFu3bo",
        "outputId": "8e3e540d-1bc9-4585-99e7-137679ccdabf"
      },
      "execution_count": null,
      "outputs": [
        {
          "output_type": "execute_result",
          "data": {
            "text/plain": [
              "10"
            ]
          },
          "metadata": {},
          "execution_count": 2
        }
      ]
    },
    {
      "cell_type": "code",
      "source": [
        "min(lista_aleatorios)"
      ],
      "metadata": {
        "colab": {
          "base_uri": "https://localhost:8080/"
        },
        "id": "a8eXs_6mu80Y",
        "outputId": "4fd911e1-c7ed-47eb-9da3-a29e252e052c"
      },
      "execution_count": null,
      "outputs": [
        {
          "output_type": "execute_result",
          "data": {
            "text/plain": [
              "0"
            ]
          },
          "metadata": {},
          "execution_count": 3
        }
      ]
    },
    {
      "cell_type": "markdown",
      "source": [
        "### input"
      ],
      "metadata": {
        "id": "6qmQDlChu-QB"
      }
    },
    {
      "cell_type": "markdown",
      "source": [
        "Função que permite que o usuário inpute algum valor de acordo com o que é pedido por um texto e armazene isso na memória de uma variável"
      ],
      "metadata": {
        "id": "zJ2Iny7tvJ9A"
      }
    },
    {
      "cell_type": "code",
      "source": [
        "input('Digite aqui o número de ações que você comprou')"
      ],
      "metadata": {
        "colab": {
          "base_uri": "https://localhost:8080/",
          "height": 53
        },
        "id": "CPFDBU0dvOaw",
        "outputId": "46f55267-c4e1-40d2-aefa-e27ecd9affa2"
      },
      "execution_count": null,
      "outputs": [
        {
          "name": "stdout",
          "output_type": "stream",
          "text": [
            "Digite aqui o número de ações que você comprou100\n"
          ]
        },
        {
          "output_type": "execute_result",
          "data": {
            "text/plain": [
              "'100'"
            ],
            "application/vnd.google.colaboratory.intrinsic+json": {
              "type": "string"
            }
          },
          "metadata": {},
          "execution_count": 4
        }
      ]
    },
    {
      "cell_type": "code",
      "source": [
        "acao = input('Insira aqui a ação que deseja comprar: ')"
      ],
      "metadata": {
        "colab": {
          "base_uri": "https://localhost:8080/"
        },
        "id": "bykWeACkvSig",
        "outputId": "c5ac84d9-d5cb-44fd-cb92-32cee0484796"
      },
      "execution_count": null,
      "outputs": [
        {
          "name": "stdout",
          "output_type": "stream",
          "text": [
            "Insira aqui a ação que deseja comprar: PRIO3\n"
          ]
        }
      ]
    },
    {
      "cell_type": "code",
      "source": [
        "acao"
      ],
      "metadata": {
        "colab": {
          "base_uri": "https://localhost:8080/",
          "height": 35
        },
        "id": "s8t4RRdtvfUI",
        "outputId": "0dc70647-c737-4f23-c41c-6737a82ecbf4"
      },
      "execution_count": null,
      "outputs": [
        {
          "output_type": "execute_result",
          "data": {
            "text/plain": [
              "'PRIO3'"
            ],
            "application/vnd.google.colaboratory.intrinsic+json": {
              "type": "string"
            }
          },
          "metadata": {},
          "execution_count": 6
        }
      ]
    },
    {
      "cell_type": "code",
      "source": [
        "numero = input('Digite aqui o número de ações que você comprou: ')"
      ],
      "metadata": {
        "colab": {
          "base_uri": "https://localhost:8080/"
        },
        "id": "FSpU6BhsvikY",
        "outputId": "aa84144b-6a22-4fa5-b9ee-2b8ed43204b4"
      },
      "execution_count": null,
      "outputs": [
        {
          "name": "stdout",
          "output_type": "stream",
          "text": [
            "Digite aqui o número de ações que você comprou: 100\n"
          ]
        }
      ]
    },
    {
      "cell_type": "code",
      "source": [
        "numero"
      ],
      "metadata": {
        "colab": {
          "base_uri": "https://localhost:8080/",
          "height": 35
        },
        "id": "m9PoJ0xJvtqg",
        "outputId": "9931383e-49c9-42e7-f793-f6ff76681a9b"
      },
      "execution_count": null,
      "outputs": [
        {
          "output_type": "execute_result",
          "data": {
            "text/plain": [
              "'100'"
            ],
            "application/vnd.google.colaboratory.intrinsic+json": {
              "type": "string"
            }
          },
          "metadata": {},
          "execution_count": 8
        }
      ]
    },
    {
      "cell_type": "code",
      "source": [
        "type(numero)"
      ],
      "metadata": {
        "colab": {
          "base_uri": "https://localhost:8080/"
        },
        "id": "wbkTHb8Avw1A",
        "outputId": "8b1eb630-604e-4f04-cd7b-bd0ba35272ff"
      },
      "execution_count": null,
      "outputs": [
        {
          "output_type": "execute_result",
          "data": {
            "text/plain": [
              "str"
            ]
          },
          "metadata": {},
          "execution_count": 9
        }
      ]
    },
    {
      "cell_type": "code",
      "source": [
        "numero + 200"
      ],
      "metadata": {
        "colab": {
          "base_uri": "https://localhost:8080/",
          "height": 168
        },
        "id": "p5hKtH1hvzAZ",
        "outputId": "dc8dab7a-4823-4303-ca33-dfb863a7ef4a"
      },
      "execution_count": null,
      "outputs": [
        {
          "output_type": "error",
          "ename": "TypeError",
          "evalue": "ignored",
          "traceback": [
            "\u001b[0;31m---------------------------------------------------------------------------\u001b[0m",
            "\u001b[0;31mTypeError\u001b[0m                                 Traceback (most recent call last)",
            "\u001b[0;32m<ipython-input-12-ae182817b12a>\u001b[0m in \u001b[0;36m<module>\u001b[0;34m\u001b[0m\n\u001b[0;32m----> 1\u001b[0;31m \u001b[0mnumero\u001b[0m \u001b[0;34m+\u001b[0m \u001b[0;36m200\u001b[0m\u001b[0;34m\u001b[0m\u001b[0;34m\u001b[0m\u001b[0m\n\u001b[0m",
            "\u001b[0;31mTypeError\u001b[0m: can only concatenate str (not \"int\") to str"
          ]
        }
      ]
    },
    {
      "cell_type": "code",
      "source": [
        "int(numero) + 200"
      ],
      "metadata": {
        "colab": {
          "base_uri": "https://localhost:8080/"
        },
        "id": "1gqda0y6wNWQ",
        "outputId": "9a11fbc7-5bd6-48ac-fcd8-4d75e4102def"
      },
      "execution_count": null,
      "outputs": [
        {
          "output_type": "execute_result",
          "data": {
            "text/plain": [
              "300"
            ]
          },
          "metadata": {},
          "execution_count": 14
        }
      ]
    },
    {
      "cell_type": "markdown",
      "source": [
        "### map"
      ],
      "metadata": {
        "id": "QAA6VVGrwVwI"
      }
    },
    {
      "cell_type": "markdown",
      "source": [
        "A função map() aplica um comando (função) a vários elementos de uma lista, de uma vez.\n",
        "\n",
        "Confira alguns exemplos:\n",
        "\n",
        "Vamos criar uma função que eleva qualquer número ao quadrado"
      ],
      "metadata": {
        "id": "Jpy4rB10whGy"
      }
    },
    {
      "cell_type": "code",
      "source": [
        "lista_aleatorios"
      ],
      "metadata": {
        "colab": {
          "base_uri": "https://localhost:8080/"
        },
        "id": "ZCkytjpgw4Sg",
        "outputId": "cb2563b1-24e5-4427-c0ea-201a8b3b6295"
      },
      "execution_count": null,
      "outputs": [
        {
          "output_type": "execute_result",
          "data": {
            "text/plain": [
              "[5, 1, 10, 9, 4, 0, 8, 2, 7, 6, 3]"
            ]
          },
          "metadata": {},
          "execution_count": 15
        }
      ]
    },
    {
      "cell_type": "code",
      "source": [
        "def potencia(numero):\n",
        "  return numero**2"
      ],
      "metadata": {
        "id": "tTZw7qxqw7OQ"
      },
      "execution_count": null,
      "outputs": []
    },
    {
      "cell_type": "code",
      "source": [
        "potencia(2)"
      ],
      "metadata": {
        "colab": {
          "base_uri": "https://localhost:8080/"
        },
        "id": "iIJmz5kzxDdX",
        "outputId": "d07a1d80-f518-473c-cf0e-eaac2828ff74"
      },
      "execution_count": null,
      "outputs": [
        {
          "output_type": "execute_result",
          "data": {
            "text/plain": [
              "4"
            ]
          },
          "metadata": {},
          "execution_count": 17
        }
      ]
    },
    {
      "cell_type": "code",
      "source": [
        "potencia(10)"
      ],
      "metadata": {
        "colab": {
          "base_uri": "https://localhost:8080/"
        },
        "id": "Rx2IMM-7xFhH",
        "outputId": "ba3fd794-da07-4beb-aa86-b6f160885f08"
      },
      "execution_count": null,
      "outputs": [
        {
          "output_type": "execute_result",
          "data": {
            "text/plain": [
              "100"
            ]
          },
          "metadata": {},
          "execution_count": 18
        }
      ]
    },
    {
      "cell_type": "code",
      "source": [
        "potencia(lista_aleatorios)"
      ],
      "metadata": {
        "colab": {
          "base_uri": "https://localhost:8080/",
          "height": 239
        },
        "id": "KV7y8inBxG0v",
        "outputId": "65ac9e03-3bc4-4901-f78c-8ccfc5cc363c"
      },
      "execution_count": null,
      "outputs": [
        {
          "output_type": "error",
          "ename": "TypeError",
          "evalue": "ignored",
          "traceback": [
            "\u001b[0;31m---------------------------------------------------------------------------\u001b[0m",
            "\u001b[0;31mTypeError\u001b[0m                                 Traceback (most recent call last)",
            "\u001b[0;32m<ipython-input-19-bd06e9247a39>\u001b[0m in \u001b[0;36m<module>\u001b[0;34m\u001b[0m\n\u001b[0;32m----> 1\u001b[0;31m \u001b[0mpotencia\u001b[0m\u001b[0;34m(\u001b[0m\u001b[0mlista_aleatorios\u001b[0m\u001b[0;34m)\u001b[0m\u001b[0;34m\u001b[0m\u001b[0;34m\u001b[0m\u001b[0m\n\u001b[0m",
            "\u001b[0;32m<ipython-input-16-075b26ce7813>\u001b[0m in \u001b[0;36mpotencia\u001b[0;34m(numero)\u001b[0m\n\u001b[1;32m      1\u001b[0m \u001b[0;32mdef\u001b[0m \u001b[0mpotencia\u001b[0m\u001b[0;34m(\u001b[0m\u001b[0mnumero\u001b[0m\u001b[0;34m)\u001b[0m\u001b[0;34m:\u001b[0m\u001b[0;34m\u001b[0m\u001b[0;34m\u001b[0m\u001b[0m\n\u001b[0;32m----> 2\u001b[0;31m   \u001b[0;32mreturn\u001b[0m \u001b[0mnumero\u001b[0m\u001b[0;34m**\u001b[0m\u001b[0;36m2\u001b[0m\u001b[0;34m\u001b[0m\u001b[0;34m\u001b[0m\u001b[0m\n\u001b[0m",
            "\u001b[0;31mTypeError\u001b[0m: unsupported operand type(s) for ** or pow(): 'list' and 'int'"
          ]
        }
      ]
    },
    {
      "cell_type": "markdown",
      "source": [
        "Vamos aplicar essa função a vários elementos de uma lista de uma só vez"
      ],
      "metadata": {
        "id": "_pBP-b2uxLkJ"
      }
    },
    {
      "cell_type": "code",
      "source": [
        "map(potencia, lista_aleatorios)"
      ],
      "metadata": {
        "colab": {
          "base_uri": "https://localhost:8080/"
        },
        "id": "iIt8zTpvxOyh",
        "outputId": "71268277-4f83-475b-c69f-0ef86fec9b7f"
      },
      "execution_count": null,
      "outputs": [
        {
          "output_type": "execute_result",
          "data": {
            "text/plain": [
              "<map at 0x7f0121ff8d00>"
            ]
          },
          "metadata": {},
          "execution_count": 20
        }
      ]
    },
    {
      "cell_type": "code",
      "source": [
        "list(map(potencia, lista_aleatorios))"
      ],
      "metadata": {
        "colab": {
          "base_uri": "https://localhost:8080/"
        },
        "id": "m_7wTpWAxWf6",
        "outputId": "00579126-bdb2-41e0-e2f9-6d446a1dbd3e"
      },
      "execution_count": null,
      "outputs": [
        {
          "output_type": "execute_result",
          "data": {
            "text/plain": [
              "[25, 1, 100, 81, 16, 0, 64, 4, 49, 36, 9]"
            ]
          },
          "metadata": {},
          "execution_count": 21
        }
      ]
    },
    {
      "cell_type": "markdown",
      "source": [
        "Imagine que você tem o preço de abertura para vários papéis. Crie uma função que modifica o preço e adiciona um retorno de 1% em cima deste valor. Aplique esta função a todos os preços da lista abaixo:"
      ],
      "metadata": {
        "id": "o43jQHMPxbrZ"
      }
    },
    {
      "cell_type": "code",
      "source": [
        "precos = [26.75, 78.98, 25.76]"
      ],
      "metadata": {
        "id": "Ipge8ywLxjQx"
      },
      "execution_count": null,
      "outputs": []
    },
    {
      "cell_type": "code",
      "source": [
        "def aplica_retorno(preco):\n",
        "  return round(preco*1.01, 2)"
      ],
      "metadata": {
        "id": "mcWP0tng-3Hs"
      },
      "execution_count": null,
      "outputs": []
    },
    {
      "cell_type": "code",
      "source": [
        "aplica_retorno(85.78)"
      ],
      "metadata": {
        "colab": {
          "base_uri": "https://localhost:8080/"
        },
        "id": "5al-Lk-sCFKL",
        "outputId": "4c1cdd1b-b918-4396-8bc8-4999a26a1b31"
      },
      "execution_count": null,
      "outputs": [
        {
          "output_type": "execute_result",
          "data": {
            "text/plain": [
              "86.64"
            ]
          },
          "metadata": {},
          "execution_count": 30
        }
      ]
    },
    {
      "cell_type": "code",
      "source": [
        "aplica_retorno(88.88)"
      ],
      "metadata": {
        "colab": {
          "base_uri": "https://localhost:8080/"
        },
        "id": "H3LrDr4LCGZS",
        "outputId": "d16648bd-6da8-4e99-893a-3db6adb6e0f3"
      },
      "execution_count": null,
      "outputs": [
        {
          "output_type": "execute_result",
          "data": {
            "text/plain": [
              "89.77"
            ]
          },
          "metadata": {},
          "execution_count": 31
        }
      ]
    },
    {
      "cell_type": "code",
      "source": [
        "map(aplica_retorno, precos)"
      ],
      "metadata": {
        "colab": {
          "base_uri": "https://localhost:8080/"
        },
        "id": "wZmZRyR4CoTy",
        "outputId": "b5cff554-2b72-499c-899a-0ee827599a54"
      },
      "execution_count": null,
      "outputs": [
        {
          "output_type": "execute_result",
          "data": {
            "text/plain": [
              "<map at 0x7f0121f84280>"
            ]
          },
          "metadata": {},
          "execution_count": 32
        }
      ]
    },
    {
      "cell_type": "code",
      "source": [
        "list(map(aplica_retorno, precos))"
      ],
      "metadata": {
        "colab": {
          "base_uri": "https://localhost:8080/"
        },
        "id": "KGkOlXIKCxdz",
        "outputId": "46476b57-d595-4955-9039-d3016771ff77"
      },
      "execution_count": null,
      "outputs": [
        {
          "output_type": "execute_result",
          "data": {
            "text/plain": [
              "[27.02, 79.77, 26.02]"
            ]
          },
          "metadata": {},
          "execution_count": 33
        }
      ]
    },
    {
      "cell_type": "markdown",
      "source": [
        "### filter"
      ],
      "metadata": {
        "id": "7Lp7Jc6UC0PT"
      }
    },
    {
      "cell_type": "markdown",
      "source": [
        "De forma análoga, a função \"filter\" aplica um filtro a vários elementos de uma lista de uma só vez.\n",
        "\n",
        "Vamos criar uma função que vai verificar se um número é par ou não"
      ],
      "metadata": {
        "id": "H6ebDVn3C7fF"
      }
    },
    {
      "cell_type": "code",
      "source": [
        "10/2"
      ],
      "metadata": {
        "colab": {
          "base_uri": "https://localhost:8080/"
        },
        "id": "YXltLzCkDCej",
        "outputId": "1f512b00-225a-4ed8-dbf3-f7e880ad2563"
      },
      "execution_count": null,
      "outputs": [
        {
          "output_type": "execute_result",
          "data": {
            "text/plain": [
              "5.0"
            ]
          },
          "metadata": {},
          "execution_count": 34
        }
      ]
    },
    {
      "cell_type": "code",
      "source": [
        "10 % 2"
      ],
      "metadata": {
        "colab": {
          "base_uri": "https://localhost:8080/"
        },
        "id": "7xz8TCY7DJAz",
        "outputId": "390a0ece-71d1-44cf-8167-0b143e9b1d17"
      },
      "execution_count": null,
      "outputs": [
        {
          "output_type": "execute_result",
          "data": {
            "text/plain": [
              "0"
            ]
          },
          "metadata": {},
          "execution_count": 35
        }
      ]
    },
    {
      "cell_type": "code",
      "source": [
        "10/3"
      ],
      "metadata": {
        "colab": {
          "base_uri": "https://localhost:8080/"
        },
        "id": "fSiRoCUbDK6S",
        "outputId": "4619c52d-e67f-4cf8-ab0f-83561c99fcd4"
      },
      "execution_count": null,
      "outputs": [
        {
          "output_type": "execute_result",
          "data": {
            "text/plain": [
              "3.3333333333333335"
            ]
          },
          "metadata": {},
          "execution_count": 36
        }
      ]
    },
    {
      "cell_type": "code",
      "source": [
        "10 % 3"
      ],
      "metadata": {
        "colab": {
          "base_uri": "https://localhost:8080/"
        },
        "id": "b4WtMpOYDMZa",
        "outputId": "7100191d-15ce-450c-d844-47332a6ad5a0"
      },
      "execution_count": null,
      "outputs": [
        {
          "output_type": "execute_result",
          "data": {
            "text/plain": [
              "1"
            ]
          },
          "metadata": {},
          "execution_count": 37
        }
      ]
    },
    {
      "cell_type": "code",
      "source": [
        "7 % 2"
      ],
      "metadata": {
        "colab": {
          "base_uri": "https://localhost:8080/"
        },
        "id": "fz0zQiCWDOBq",
        "outputId": "db008257-73e0-4c6d-da75-04b05dd9295e"
      },
      "execution_count": null,
      "outputs": [
        {
          "output_type": "execute_result",
          "data": {
            "text/plain": [
              "1"
            ]
          },
          "metadata": {},
          "execution_count": 38
        }
      ]
    },
    {
      "cell_type": "code",
      "source": [
        "5 % 2 == 0"
      ],
      "metadata": {
        "colab": {
          "base_uri": "https://localhost:8080/"
        },
        "id": "NkmchMszDTXr",
        "outputId": "01aed634-49cd-4a2d-cd3f-983b1f538436"
      },
      "execution_count": null,
      "outputs": [
        {
          "output_type": "execute_result",
          "data": {
            "text/plain": [
              "False"
            ]
          },
          "metadata": {},
          "execution_count": 40
        }
      ]
    },
    {
      "cell_type": "code",
      "source": [
        "10 % 2 == 0"
      ],
      "metadata": {
        "colab": {
          "base_uri": "https://localhost:8080/"
        },
        "id": "6iVTDs10DaTq",
        "outputId": "71fd7cd7-74ce-4f1f-d2cf-7564b21d2d48"
      },
      "execution_count": null,
      "outputs": [
        {
          "output_type": "execute_result",
          "data": {
            "text/plain": [
              "True"
            ]
          },
          "metadata": {},
          "execution_count": 41
        }
      ]
    },
    {
      "cell_type": "code",
      "source": [
        "def verifica_par(numero):\n",
        "  return numero % 2 == 0"
      ],
      "metadata": {
        "id": "kSdODG-iDhnU"
      },
      "execution_count": null,
      "outputs": []
    },
    {
      "cell_type": "code",
      "source": [
        "verifica_par(10)"
      ],
      "metadata": {
        "colab": {
          "base_uri": "https://localhost:8080/"
        },
        "id": "Xn1V5mSRDrEK",
        "outputId": "db8b4bce-1424-4f60-eaf3-6d7f4bbc4912"
      },
      "execution_count": null,
      "outputs": [
        {
          "output_type": "execute_result",
          "data": {
            "text/plain": [
              "True"
            ]
          },
          "metadata": {},
          "execution_count": 45
        }
      ]
    },
    {
      "cell_type": "code",
      "source": [
        "verifica_par(2)"
      ],
      "metadata": {
        "colab": {
          "base_uri": "https://localhost:8080/"
        },
        "id": "BM99sraHDsXT",
        "outputId": "4fee2aec-5808-403d-a314-c7c25471f3f4"
      },
      "execution_count": null,
      "outputs": [
        {
          "output_type": "execute_result",
          "data": {
            "text/plain": [
              "True"
            ]
          },
          "metadata": {},
          "execution_count": 46
        }
      ]
    },
    {
      "cell_type": "code",
      "source": [
        "verifica_par(3)"
      ],
      "metadata": {
        "colab": {
          "base_uri": "https://localhost:8080/"
        },
        "id": "vJ3LGAQhDyEM",
        "outputId": "79cb7ae3-23b4-4f0d-c94d-721a9878a0f0"
      },
      "execution_count": null,
      "outputs": [
        {
          "output_type": "execute_result",
          "data": {
            "text/plain": [
              "False"
            ]
          },
          "metadata": {},
          "execution_count": 47
        }
      ]
    },
    {
      "cell_type": "code",
      "source": [
        "verifica_par(34637874320)"
      ],
      "metadata": {
        "colab": {
          "base_uri": "https://localhost:8080/"
        },
        "id": "Sc41lWHRDyvz",
        "outputId": "0d9504ff-6d8c-43be-a88c-0f2bfd788619"
      },
      "execution_count": null,
      "outputs": [
        {
          "output_type": "execute_result",
          "data": {
            "text/plain": [
              "True"
            ]
          },
          "metadata": {},
          "execution_count": 48
        }
      ]
    },
    {
      "cell_type": "code",
      "source": [
        "lista = [3, 6, 9, 12, 15, 18, 21]"
      ],
      "metadata": {
        "id": "eoCq5GxZD047"
      },
      "execution_count": null,
      "outputs": []
    },
    {
      "cell_type": "markdown",
      "source": [
        "Se aplicarmos essa função à lista criada no item anterior, ela vai trazer apenas os números que são pares."
      ],
      "metadata": {
        "id": "-G6mSM5_D3qC"
      }
    },
    {
      "cell_type": "code",
      "source": [
        "filter(verifica_par, lista)"
      ],
      "metadata": {
        "colab": {
          "base_uri": "https://localhost:8080/"
        },
        "id": "8D1UCpPID6Ms",
        "outputId": "258e832f-a33e-48c1-e4e8-271f4b41774f"
      },
      "execution_count": null,
      "outputs": [
        {
          "output_type": "execute_result",
          "data": {
            "text/plain": [
              "<filter at 0x7f0109af0340>"
            ]
          },
          "metadata": {},
          "execution_count": 50
        }
      ]
    },
    {
      "cell_type": "code",
      "source": [
        "list(filter(verifica_par, lista))"
      ],
      "metadata": {
        "colab": {
          "base_uri": "https://localhost:8080/"
        },
        "id": "1sEMUCxGD-2b",
        "outputId": "c8ad960e-6c5d-4d31-c601-a56c79705e7e"
      },
      "execution_count": null,
      "outputs": [
        {
          "output_type": "execute_result",
          "data": {
            "text/plain": [
              "[6, 12, 18]"
            ]
          },
          "metadata": {},
          "execution_count": 51
        }
      ]
    },
    {
      "cell_type": "markdown",
      "source": [
        "**Exercício**\n",
        "\n",
        "Dada uma lista de papéis que pertencem ao IBOV, verifique se os papéis de uma outra lista também pertencem à primeira."
      ],
      "metadata": {
        "id": "NjZHW8fKECCL"
      }
    },
    {
      "cell_type": "code",
      "source": [
        "IBOV = ['ABEV3', 'PETR4', 'VALE3', 'BBDC4', 'ITUB4']\n",
        "\n",
        "lista_papeis = ['ORVR3', 'ABEV3', 'BAUH4', 'JOPA3', 'JALL3', 'ITUB4']"
      ],
      "metadata": {
        "id": "a2CwzMIpEOvs"
      },
      "execution_count": null,
      "outputs": []
    },
    {
      "cell_type": "markdown",
      "source": [
        "Crie uma função que verifica se algum papel pertence à primeira lista ou não. Depois, aplique esta função à segunda lista (lista_papeis) e verifique quais papéis desta lista pertencem à lista IBOV."
      ],
      "metadata": {
        "id": "37PNjhLLEUtj"
      }
    },
    {
      "cell_type": "code",
      "source": [
        "'ABEV3' in IBOV"
      ],
      "metadata": {
        "colab": {
          "base_uri": "https://localhost:8080/"
        },
        "id": "hhRrU743FGPZ",
        "outputId": "ba1ba509-4a01-4c77-a82c-382a1af6e408"
      },
      "execution_count": null,
      "outputs": [
        {
          "output_type": "execute_result",
          "data": {
            "text/plain": [
              "True"
            ]
          },
          "metadata": {},
          "execution_count": 53
        }
      ]
    },
    {
      "cell_type": "code",
      "source": [
        "def verifica_ibov(papel):\n",
        "  IBOV = ['ABEV3', 'PETR4', 'VALE3', 'BBDC4', 'ITUB4']\n",
        "  return papel in IBOV"
      ],
      "metadata": {
        "id": "Vp3rot2fEV_b"
      },
      "execution_count": null,
      "outputs": []
    },
    {
      "cell_type": "code",
      "source": [
        "verifica_ibov('PRIO3')"
      ],
      "metadata": {
        "colab": {
          "base_uri": "https://localhost:8080/"
        },
        "id": "kAjWfCk-FQo6",
        "outputId": "dcd5000e-63f1-4d4b-c513-2ce1c50c14a0"
      },
      "execution_count": null,
      "outputs": [
        {
          "output_type": "execute_result",
          "data": {
            "text/plain": [
              "False"
            ]
          },
          "metadata": {},
          "execution_count": 59
        }
      ]
    },
    {
      "cell_type": "code",
      "source": [
        "verifica_ibov('VALE3')"
      ],
      "metadata": {
        "colab": {
          "base_uri": "https://localhost:8080/"
        },
        "id": "kBGw8qhSFTCb",
        "outputId": "5053735b-2ec8-4628-8bbd-9d77355d73e4"
      },
      "execution_count": null,
      "outputs": [
        {
          "output_type": "execute_result",
          "data": {
            "text/plain": [
              "True"
            ]
          },
          "metadata": {},
          "execution_count": 60
        }
      ]
    },
    {
      "cell_type": "markdown",
      "source": [
        "Agora vamos aplicar esta função em toda a lista \"lista_papeis\""
      ],
      "metadata": {
        "id": "67KfxrK5F_bS"
      }
    },
    {
      "cell_type": "code",
      "source": [
        "filter(verifica_ibov, lista_papeis)"
      ],
      "metadata": {
        "colab": {
          "base_uri": "https://localhost:8080/"
        },
        "id": "r8AjUdYsGCcM",
        "outputId": "0dff2725-34db-4d28-802d-a695e4b34595"
      },
      "execution_count": null,
      "outputs": [
        {
          "output_type": "execute_result",
          "data": {
            "text/plain": [
              "<filter at 0x7f0109afe7c0>"
            ]
          },
          "metadata": {},
          "execution_count": 61
        }
      ]
    },
    {
      "cell_type": "code",
      "source": [
        "list(filter(verifica_ibov, lista_papeis))"
      ],
      "metadata": {
        "colab": {
          "base_uri": "https://localhost:8080/"
        },
        "id": "ULv0yxScGINi",
        "outputId": "4289c811-691b-4913-bb9c-49b47c146eaa"
      },
      "execution_count": null,
      "outputs": [
        {
          "output_type": "execute_result",
          "data": {
            "text/plain": [
              "['ABEV3', 'ITUB4']"
            ]
          },
          "metadata": {},
          "execution_count": 62
        }
      ]
    },
    {
      "cell_type": "code",
      "source": [],
      "metadata": {
        "id": "GzqBy9IpGKda"
      },
      "execution_count": null,
      "outputs": []
    }
  ]
}